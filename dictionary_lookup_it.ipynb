{
 "cells": [
  {
   "cell_type": "code",
   "execution_count": 20,
   "metadata": {},
   "outputs": [],
   "source": [
    "import spacy \n",
    "import re \n",
    "import pandas as pd\n",
    "from spacy.lang.en import English\n",
    "from collections import Counter\n",
    "from itertools import chain\n",
    "import ahocorasick\n",
    "import ast\n",
    "from analyze_m_data import get_occupations_list_en, get_occupations_list\n",
    "from spacy.lang.de import German\n",
    "from spacy.lang.it import Italian\n",
    "from spacy.lang.es import Spanish \n",
    "import matplotlib.pyplot as plt\n",
    "import itertools\n",
    "from collections import Counter\n",
    "from operator import itemgetter"
   ]
  },
  {
   "cell_type": "code",
   "execution_count": 25,
   "metadata": {},
   "outputs": [
    {
     "name": "stdout",
     "output_type": "stream",
     "text": [
      "['astrazion', 'contabil', 'acrob', 'attor', 'attric', 'attuar', 'agopressor', 'agopuntur', 'indirizz', 'giudice arbitr']\n"
     ]
    }
   ],
   "source": [
    "def stem_titles(titles):\n",
    "  from nltk.stem import SnowballStemmer \n",
    "  stemmer = SnowballStemmer(\"italian\") # Choose a language\n",
    "  stems = []\n",
    "  for title in titles:\n",
    "     stem = stemmer.stem(title)\n",
    "     stems.append(stem)\n",
    "  return stems\n",
    "it_occ_titles = pd.read_csv('/mount/arbeitsdaten/studenten2/caulfiea/masters_thesis/it_occ_list_from_en.csv', encoding='utf-8')\n",
    "it_occ_list = it_occ_titles['occupations'].to_list()\n",
    "stems = stem_titles(it_occ_list)\n",
    "print(stems[:10])"
   ]
  },
  {
   "cell_type": "code",
   "execution_count": 26,
   "metadata": {},
   "outputs": [],
   "source": [
    "def get_occupations(df):\n",
    "    new_df = df\n",
    "    # print(unique_gender_counts)\n",
    "    # number of biographies that returned no intro \n",
    "    print(\"num intros unavailable\")\n",
    "    print((new_df['intro'] == 'No intro available').sum())\n",
    "    # remove biographies with no intro \n",
    "    new_df = new_df[new_df.intro != 'No intro available']\n",
    "    print(new_df.shape[0])\n",
    "    small_df = new_df.copy()\n",
    "    # lowercase intro strings\n",
    "    small_df['intro'] = small_df['intro'].str.casefold()\n",
    "    small_df['title'] = small_df['title'].str.casefold()\n",
    "    # small_df['first_sentence'] = small_df['first_sentence'].str.casefold()\n",
    "    # the lists in the occupations column were not actual lists but rather string literals\n",
    "    # this code converts them back into lists  \n",
    "    # small_df['occupations'] = small_df['occupations'].apply(ast.literal_eval)\n",
    "\n",
    "    # get a set of occupation words \n",
    "    full_unique_occupations = set(stem_titles(it_occ_list))\n",
    "    # full_unique_occupations = set(stem_titles(es_occ_list))\n",
    "    # full_unique_occupations = get_occupations_list('/mount/arbeitsdaten/studenten2/caulfiea/masters_thesis/de_occ_titles.csv', gender)\n",
    "    # full_unique_occupations = get_occupations_list_en('/mount/arbeitsdaten/studenten2/caulfiea/masters_thesis/it_occ_list_full.csv')\n",
    "    # full_unique_occupations = get_occupations_list_en('/mount/arbeitsdaten/studenten2/caulfiea/masters_thesis/es_occ_list_unique.csv')\n",
    "    small_df['intro'] = small_df['intro'].astype(str)\n",
    "    small_df['title'] = small_df['title'].astype(str)\n",
    "    \n",
    "    print(small_df.dtypes)\n",
    "    # want to find overlapping terms in the intros column and the wikidata occupation words set \n",
    "    automaton = ahocorasick.Automaton()\n",
    "    for id, term in enumerate(full_unique_occupations):\n",
    "        automaton.add_word(term, (term))\n",
    "    automaton.remove_word('-')\n",
    "    automaton.make_automaton()\n",
    "    def find_terms_en(text):\n",
    "        return list(term for _, term in automaton.iter(text))\n",
    "    def find_terms_de(text):\n",
    "        words = list(re.findall(r'\\b\\w+\\b', text.lower()))  # Tokenize text into words\n",
    "        matches = list(term for _, term in automaton.iter(text) if term.lower() in words)\n",
    "        return matches\n",
    "    def find_terms_stems1(text):\n",
    "      matching_tokens = []\n",
    "      substrings = list(full_unique_occupations)\n",
    "      tokens = text.split()\n",
    "      for token in tokens:\n",
    "        if any(sub in token for sub in substrings):\n",
    "          matching_tokens.append(token)\n",
    "      return matching_tokens\n",
    "    \n",
    "    def find_terms_stems(text):\n",
    "      # ner = spacy.load('en_core_web_sm') \n",
    "      # ner = spacy.load('de_core_news_sm')\n",
    "      ner = spacy.load('it_core_news_sm') \n",
    "      # ner = spacy.load('es_core_news_sm')\n",
    "      doc = ner(text) \n",
    "      occupational_titles = list(full_unique_occupations)\n",
    "      matched_occupations = []\n",
    "      for ent in doc: \n",
    "        if any(sub in ent.text.casefold() for sub in occupational_titles):\n",
    "          if not ent.ent_type_:\n",
    "              # matched_occupations.append(ent.text)\n",
    "              matched_occupations.append({ent.text: ent.morph.get(\"Gender\")})\n",
    "        # print(ent.text, ent.pos_, ent.dep_)\n",
    "          # print(ent,ent.morph.get(\"Gender\"))\n",
    "      return (matched_occupations)\n",
    "    \n",
    "    # small_df['overlapping_occupations'] = small_df['intro'].apply(find_terms_stems)\n",
    "    # small_df['overlapping_occupations_sentence1'] = small_df['first_sentence'].apply(find_terms_stems)\n",
    "    # want to see if male occupation names show up in title field as last names \n",
    "    # small_df['occupation_in_last_name'] = small_df['title'].apply(find_terms_stems)\n",
    "    small_df['overlapping_occupations_sentence1'] = small_df['overlapping_occupations_sentence1'].apply(ast.literal_eval)\n",
    "    occ_counts_counter = Counter(\n",
    "    key\n",
    "    for row in small_df['overlapping_occupations_sentence1']\n",
    "    for d in row\n",
    "    for key in d.keys()\n",
    "    )\n",
    "\n",
    "    occ_gender_counts_counter = Counter(\n",
    "    value\n",
    "    for row in small_df['overlapping_occupations_sentence1']\n",
    "    for d in row\n",
    "    for values in d.values()\n",
    "    for value in values\n",
    "    )\n",
    "   \n",
    "    # overlapping_occ_counts = Counter(chain.from_iterable([small_df['overlapping_occupations_sentence1'].keys()]))\n",
    "    # print(small_df[['wikidata_code','intro', 'overlapping_occupations']].head(20))\n",
    "    print(occ_counts_counter)\n",
    "    print(occ_gender_counts_counter)\n",
    "    smaller_df = small_df[small_df['overlapping_occupations_sentence1'].map(len)>0]\n",
    "    # smaller_df = smaller_df[smaller_df['overlapping_occupations'].map(len)>0]\n",
    "\n",
    "    print(\"length of dataset:\")\n",
    "    print(small_df.shape[0])\n",
    "    print(\"first sentences with occ title found:\", smaller_df.shape[0])\n",
    "    "
   ]
  },
  {
   "cell_type": "code",
   "execution_count": 18,
   "metadata": {},
   "outputs": [
    {
     "name": "stdout",
     "output_type": "stream",
     "text": [
      "num intros unavailable\n",
      "0\n",
      "7852\n",
      "Unnamed: 0                            int64\n",
      "wikidata_code                        object\n",
      "title                                object\n",
      "intro                                object\n",
      "gender                               object\n",
      "occupations                          object\n",
      "first_sentence                       object\n",
      "overlapping_occupations              object\n",
      "overlapping_occupations_sentence1    object\n",
      "occupation_in_last_name              object\n",
      "dtype: object\n",
      "Counter({'attrice': 1417, 'cestista': 921, 'maggio': 743, 'politica': 681, 'scrittrice': 621, 'calciatrice': 536, 'cantante': 451, 'giornalista': 444, 'conduttrice': 423, 'per': 283, 'modella': 250, 'doppiatrice': 248, 'poetessa': 177, 'direttrice': 111, 'allenatrice': 110, 'nobildonna': 107, 'storica': 105, 'ballerina': 99, 'saggista': 90, 'personaggio': 74, 'doppiaggio': 72, 'canadese': 70, 'deputata': 68, 'critica': 68, 'artista': 60, 'argentina': 57, 'insegnante': 54, 'portiere': 45, 'figlia': 42, 'musicista': 42, 'seconda': 41, 'campionessa': 40, 'portoricana': 40, 'annunciatrice': 40, 'campionati': 37, 'artistica': 37, 'pianista': 34, 'drammaturga': 34, 'sindacalista': 33, 'moglie': 33, 'letteraria': 32, 'donna': 32, 'sportiva': 32, 'coreografa': 31, 'presso': 29, 'medico': 28, 'madre': 27, 'argento': 25, 'interprete': 25, 'comica': 25, 'fotografa': 25, 'presidente': 25, 'illustratrice': 22, 'semplicemente': 22, 'principessa': 22, 'senegalese': 22, 'blogger': 21, 'paroliera': 21, 'svedese': 20, 'donne': 20, 'antropologa': 18, 'musica': 18, 'psicologa': 17, 'tecnico': 16, 'superstite': 16, 'internazionale': 16, 'amante': 14, 'secondo': 14, 'capitano': 13, 'bibliotecaria': 13, 'archeologa': 13, 'signora': 12, 'pilota': 12, 'astronoma': 12, 'disegnatrice': 12, 'designer': 11, 'governo': 11, 'principalmente': 11, 'ragazzi': 11, 'musical': 11, 'attore': 11, 'sindaco': 10, 'sindaca': 10, 'vicepresidente': 10, 'infermiera': 10, 'fisica': 10, 'matematica': 10, 'letteratura': 10, 'musicale': 9, 'supermodella': 9, 'filologa': 9, 'badessa': 9, 'interpretato': 9, 'psicoanalista': 9, 'orchestra': 9, 'rappresentante': 9, 'sociologa': 8, 'architetto': 8, 'decorata': 8, 'imitatrice': 8, 'psichiatra': 8, 'campionato': 8, 'portoghese': 8, 'operaia': 8, 'avvocato': 8, 'esperta': 8, 'maestra': 8, 'avvocata': 7, 'duchessa': 7, 'architetta': 7, 'sportivo': 7, 'letterata': 7, 'rappresentato': 7, 'opera': 6, 'sottosegretario': 6, 'sottosegretaria': 6, 'politologa': 6, 'pediatra': 6, 'persone': 6, 'esperienza': 6, 'biologa': 6, 'considerata': 6, 'letterario': 6, 'carica': 6, 'classificata': 6, 'allenatore': 5, 'poeta': 5, 'economista': 5, 'palestinese': 5, 'segretaria': 5, 'rapporti': 5, 'fratello': 5, 'ceramista': 5, 'musicologa': 5, 'giudice': 5, 'editoriale': 5, 'molto': 5, 'medica': 5, 'ricercatrice': 5, 'maglia': 5, 'alcune': 5, 'programma': 5, 'arbitro': 5, 'critico': 5, 'incisore': 4, 'trave': 4, 'operatrice': 4, 'politiche': 4, 'cavallerizza': 4, 'professoressa': 4, 'ordinaria': 4, 'certa': 4, 'governi': 4, 'importante': 4, 'deportazione': 4, 'deportata': 4, 'guardia': 4, 'figlio': 4, 'magistrato': 4, 'manager': 4, 'archivista': 4, 'periodo': 4, 'rappresentare': 4, 'deputato': 4, 'rappresentanza': 4, 'importanti': 4, 'rapper': 4, 'incarichi': 3, 'biografa': 3, 'antropologia': 3, 'amministratore': 3, 'etnologa': 3, 'attraverso': 3, 'politico': 3, 'persecuzioni': 3, 'ragazza': 3, 'editorialista': 3, 'impiegata': 3, 'martellista': 3, 'internazionali': 3, 'gastronoma': 3, 'livello': 3, 'chimica': 3, 'regina': 3, 'ricerca': 3, 'però': 3, 'signore': 3, 'youtuber': 3, 'medicina': 3, 'ricoperto': 3, 'figlie': 3, 'programmi': 3, 'imperatore': 3, 'magistrata': 3, 'repertorio': 3, 'umorista': 2, 'comando': 2, 'veterinaria': 2, 'allenata': 2, 'astrologa': 2, 'attrici': 2, 'figli': 2, 'condirettrice': 2, 'compagnia': 2, 'incarico': 2, 'storico': 2, 'copilota': 2, 'deportati': 2, 'secondogenita': 2, 'viceré': 2, 'entomologa': 2, 'restauratrice': 2, 'ordine': 2, 'apertura': 2, 'opere': 2, 'calciatore': 2, 'autori': 2, 'etnomusicologa': 2, 'cadette': 2, 'personalità': 2, 'poetica': 2, 'commissario': 2, 'internet': 2, 'fotografia': 2, 'artistico': 2, 'maggiori': 2, 'classificandosi': 2, 'superiora': 2, 'geografa': 2, 'capogruppo': 2, 'cantanti': 2, 'settimanale': 2, 'compagna': 2, 'interpretò': 2, 'principali': 2, 'concertista': 2, 'benefattrice': 2, 'storici': 2, 'chirurgia': 2, 'arrangiatrice': 2, 'cavallo': 2, 'direttore': 2, 'performance': 2, 'operazione': 2, 'personaggi': 2, 'flautista': 2, 'molti': 2, 'giocava': 2, 'crocerossina': 2, 'selezionata': 2, 'trasporti': 2, 'psicanalista': 2, 'geologa': 2, 'comico': 2, 'interpreta': 2, 'interpretazione': 2, 'doppio': 2, 'campione': 2, 'moldava': 2, 'tallonatrice': 2, 'amministrazione': 2, 'professore': 1, 'magnanimo': 1, 'autore': 1, 'fratelli': 1, 'riportano': 1, 'comportamento': 1, 'autobiografico': 1, 'personale': 1, 'bibliografa': 1, 'tubercolosi': 1, 'doppiatore': 1, 'Sarteschi': 1, 'compagno': 1, 'Secondo': 1, 'tecnica': 1, 'skipper': 1, 'biblioteconomia': 1, 'attori': 1, '1992.Campionessa': 1, 'reportage': 1, 'travestiti': 1, 'palestinesi': 1, 'seconde': 1, 'sacerdotessa': 1, 'batterista': 1, 'acrobatica': 1, 'giudicessa': 1, 'cantautore': 1, 'drammaturgo': 1, 'passaggio': 1, 'fattoria': 1, 'ragazze': 1, 'viceallenatrice': 1, 'analitici': 1, 'ingegnere': 1, 'decorato': 1, 'apprezzata': 1, 'osservatrice': 1, 'autobiografici': 1, 'carta': 1, 'permettere': 1, 'conservazione': 1, 'coordinatrice': 1, 'caricaturista': 1, 'messaggera': 1, 'considerate': 1, 'Nocera': 1, 'dimensione': 1, 'suocero': 1, 'curatore': 1, 'illustri': 1, 'chirurga': 1, 'penale': 1, 'neuropsichiatra': 1, 'patologia': 1, 'molte': 1, 'autorità': 1, 'rappresentativa': 1, 'gioielli': 1, 'statistica': 1, 'statistiche': 1, 'capostipite': 1, 'cadetto': 1, 'aristocratiche': 1, 'sviluppo': 1, 'fotografico': 1, 'mima': 1, 'programmate': 1, 'giornaliero': 1, 'capace': 1, 'avvitato': 1, 'camerunese': 1, 'ginecologa': 1, 'permesso': 1, 'vincere': 1, 'botanica': 1, 'farmacista': 1, 'videoartista': 1, 'psicologico': 1, 'doppia': 1, 'percorsi': 1, 'porta': 1, 'patriottici': 1, 'spedizioni': 1, 'consacrata': 1, 'psicologia': 1, 'microbiologa': 1, 'centravanti': 1, 'scout': 1, 'periodi': 1, 'gentildonna': 1, 'biochimica': 1, 'produttore': 1, 'ingegnera': 1, 'ingegneria': 1, 'sacerdoti': 1, 'chimico': 1, 'scoperta': 1, 'astronomia': 1, 'sviluppata': 1, 'svedesi': 1, 'Cerami': 1, 'capitale': 1, 'annunciata': 1, 'archeologia': 1, 'pediatria': 1, 'cariche': 1, 'interno': 1, 'superstiti': 1, 'predicatrice': 1, 'copertura': 1, 'etnologia': 1, 'giornali': 1, 'ricerche': 1, 'camerlengo': 1, 'decoratrice': 1, 'artisti': 1, 'casalese': 1, 'meteorologa': 1, 'concertatrice': 1, 'registrata': 1, 'peruviana': 1, 'Porto': 1, 'operato': 1, 'avanguardie': 1, 'autobiografia': 1, 'operativa': 1, 'telegiornale': 1, 'impero': 1, 'maglie': 1, 'governare': 1, 'persicetana': 1, 'vicedirettrice': 1, 'vignettista': 1, 'seleziona': 1, 'internazionalista': 1, 'irredentista': 1, 'Maggi': 1, 'ikebana': 1, 'autobiografica': 1, 'addetta': 1, 'Cerretti': 1, 'installazioni': 1, 'interpretata': 1, 'interpretate': 1, 'artist': 1, 'saperi': 1, '3cerchi/2palle': 1, 'perdita': 1, 'artisticamente': 1, 'chirurgica': 1, 'governante': 1, 'riportato': 1, 'segretario': 1, 'geofisica': 1, 'cerimonia': 1, 'avvocatessa': 1, 'commesso': 1, 'siropalestinese': 1, 'supergigante': 1, 'gigante': 1, 'zootecniche': 1, 'importanza': 1, 'agroalimentare': 1, 'telegiornali': 1, 'letterato': 1, 'doppiato': 1, 'cartoni': 1, 'amanti': 1, 'letterarie': 1, 'segnalare': 1, 'riuscita': 1, 'classificarsi': 1, 'signorina': 1, 'Katiuscia': 1, 'politici': 1, 'redattrice': 1, 'maestro': 1, 'Capizzi': 1, 'arrangiati': 1, 'portavoce': 1, 'sacerdote': 1, 'aiutò': 1, 'sociologia': 1, 'musicali': 1, 'autorevoli': 1, 'infermiere': 1, 'analista': 1, 'Perugia': 1, 'ceramologa': 1, 'portatrice': 1, 'editoria': 1, 'interpretando': 1, 'quattordicesima': 1, 'neurologa': 1, 'interni': 1, 'sperimentare': 1, 'molestata': 1, 'depressa': 1, 'carcere': 1, 'colorista': 1, 'marcatore': 1, 'persiano': 1, 'riportata': 1, 'economia': 1, 'librettista': 1, 'annunci': 1, 'immagine': 1, 'modello': 1, 'Perla': 1, 'annunciatrici': 1, 'guida': 1, 'sportivi': 1, '5.Per': 1, 'pressi': 1, 'considera': 1, 'operano': 1, 'procuratore': 1, 'giornalistica': 1, 'cuoca': 1, 'ricoperti': 1, 'ininterrottamente': 1, 'portata': 1, 'fantina': 1, 'sindache': 1, 'classificate': 1, 'enogastronomica': 1, 'conservò': 1, 'archivio': 1, 'operetta': 1, 'elicotteri': 1, 'producer': 1, 'fisiologa': 1, 'percezione': 1, 'paleontologa': 1, 'insegnato': 1, 'disegno': 1, 'guidata': 1, 'statista': 1, 'ballerine': 1, 'selezione': 1, 'dimostrato': 1, 'opportunità': 1, 'operò': 1, 'fotoreporter': 1, 'cooperazione': 1, 'II.Sociologa': 1, 'forestali': 1, 'ipertricosi': 1, 'portò': 1, 'precedente': 1, 'esercito': 1, 'elettrica': 1, 'editore': 1, 'astrattismo': 1, 'geologo': 1, 'ricamatrice': 1, 'cardiologa': 1, 'vicecampionessa': 1, 'analfabetismo': 1})\n",
      "Counter({'Fem': 6181, 'Masc': 1775})\n",
      "length of dataset:\n",
      "7852\n",
      "first sentences with occ title found: 6394\n"
     ]
    }
   ],
   "source": [
    "it_female_df = pd.read_csv('/mount/arbeitsdaten/studenten2/caulfiea/masters_thesis/sets_for_analysis/it/it_female_occ_all.csv', encoding='utf-8')\n",
    "get_occupations(it_female_df)"
   ]
  },
  {
   "cell_type": "code",
   "execution_count": 27,
   "metadata": {},
   "outputs": [
    {
     "name": "stdout",
     "output_type": "stream",
     "text": [
      "num intros unavailable\n",
      "0\n",
      "7852\n",
      "Unnamed: 0                            int64\n",
      "wikidata_code                        object\n",
      "title                                object\n",
      "intro                                object\n",
      "gender                               object\n",
      "occupations                          object\n",
      "first_sentence                       object\n",
      "overlapping_occupations              object\n",
      "overlapping_occupations_sentence1    object\n",
      "occupation_in_last_name              object\n",
      "dtype: object\n",
      "Counter({'attrice': 1417, 'cestista': 921, 'politica': 681, 'scrittrice': 621, 'calciatrice': 536, 'cantante': 451, 'giornalista': 444, 'conduttrice': 423, 'per': 283, 'modella': 250, 'doppiatrice': 248, 'poetessa': 177, 'traduttrice': 133, 'schermitrice': 125, 'direttrice': 111, 'allenatrice': 110, 'nobildonna': 107, 'autrice': 107, 'storica': 105, 'ballerina': 99, 'vincitrice': 97, 'saggista': 90, 'cantautrice': 89, 'pittrice': 87, 'sceneggiatrice': 77, 'giocatrice': 75, 'personaggio': 74, 'doppiaggio': 72, 'canadese': 70, 'deputata': 68, 'critica': 68, 'artista': 60, 'argentina': 57, 'insegnante': 54, 'produttrice': 51, 'portiere': 45, 'figlia': 42, 'musicista': 42, 'seconda': 41, 'campionessa': 40, 'sciatrice': 40, 'portoricana': 40, 'annunciatrice': 40, 'nuotatrice': 39, 'imprenditrice': 39, 'senatrice': 39, 'campionati': 37, 'artistica': 37, 'compositrice': 36, 'pianista': 34, 'drammaturga': 34, 'sindacalista': 33, 'moglie': 33, 'scultrice': 32, 'letteraria': 32, 'donna': 32, 'sportiva': 32, 'fondatrice': 31, 'coreografa': 31, 'presso': 29, 'medico': 28, 'madre': 27, 'argento': 25, 'interprete': 25, 'comica': 25, 'fotografa': 25, 'presidente': 25, 'danzatrice': 24, 'pattinatrice': 24, 'illustratrice': 22, 'semplicemente': 22, 'principessa': 22, 'senegalese': 22, 'blogger': 21, 'paroliera': 21, 'svedese': 20, 'donne': 20, 'editrice': 18, 'antropologa': 18, 'musica': 18, 'psicologa': 17, 'tuffatrice': 17, 'tecnico': 16, 'palleggiatrice': 16, 'schiacciatrice': 16, 'superstite': 16, 'internazionale': 16, 'educatrice': 15, 'amante': 14, 'secondo': 14, 'capitano': 13, 'bibliotecaria': 13, 'archeologa': 13, 'tiratrice': 13, 'signora': 12, 'pilota': 12, 'astronoma': 12, 'disegnatrice': 12, 'designer': 11, 'governo': 11, 'principalmente': 11, 'ragazzi': 11, 'montatrice': 11, 'musical': 11, 'attore': 11, 'sindaco': 10, 'sindaca': 10, 'vicepresidente': 10, 'infermiera': 10, 'divulgatrice': 10, 'fisica': 10, 'matematica': 10, 'letteratura': 10, 'musicale': 9, 'supermodella': 9, 'filologa': 9, 'badessa': 9, 'interpretato': 9, 'psicoanalista': 9, 'orchestra': 9, 'rappresentante': 9, 'sociologa': 8, 'architetto': 8, 'decorata': 8, 'imitatrice': 8, 'psichiatra': 8, 'campionato': 8, 'portoghese': 8, 'curatrice': 8, 'operaia': 8, 'avvocato': 8, 'esperta': 8, 'maestra': 8, 'avvocata': 7, 'duchessa': 7, 'architetta': 7, 'settore': 7, 'sportivo': 7, 'letterata': 7, 'rappresentato': 7, 'opera': 6, 'sottosegretario': 6, 'sottosegretaria': 6, 'politologa': 6, 'pediatra': 6, 'persone': 6, 'esperienza': 6, 'biologa': 6, 'considerata': 6, 'letterario': 6, 'carica': 6, 'classificata': 6, 'allenatore': 5, 'poeta': 5, 'economista': 5, 'palestinese': 5, 'segretaria': 5, 'rapporti': 5, 'fratello': 5, 'ceramista': 5, 'musicologa': 5, 'giudice': 5, 'editoriale': 5, 'molto': 5, 'medica': 5, 'ricercatrice': 5, 'alcune': 5, 'programma': 5, 'arbitro': 5, 'truccatrice': 5, 'critico': 5, 'incisore': 4, 'trave': 4, 'operatrice': 4, 'politiche': 4, 'cavallerizza': 4, 'professoressa': 4, 'ordinaria': 4, 'certa': 4, 'governi': 4, 'importante': 4, 'deportazione': 4, 'deportata': 4, 'guardia': 4, 'formatrice': 4, 'marciatrice': 4, 'figlio': 4, 'magistrato': 4, 'manager': 4, 'aviatrice': 4, 'archivista': 4, 'periodo': 4, 'rappresentare': 4, 'fondatore': 4, 'deputato': 4, 'rappresentanza': 4, 'importanti': 4, 'rapper': 4, 'creatrice': 3, 'incarichi': 3, 'biografa': 3, 'antropologia': 3, 'amministratore': 3, 'etnologa': 3, 'attraverso': 3, 'politico': 3, 'imprenditore': 3, 'persecuzioni': 3, 'ragazza': 3, 'editorialista': 3, 'impiegata': 3, 'martellista': 3, 'internazionali': 3, 'gastronoma': 3, 'livello': 3, 'chimica': 3, 'regina': 3, 'ricerca': 3, 'però': 3, 'collaboratrice': 3, 'signore': 3, 'detentrice': 3, 'youtuber': 3, 'medicina': 3, 'ricoperto': 3, 'figlie': 3, 'programmi': 3, 'imperatore': 3, 'magistrata': 3, 'ispiratrice': 3, 'repertorio': 3, 'umorista': 2, 'comando': 2, 'veterinaria': 2, 'allenata': 2, 'astrologa': 2, 'attrici': 2, 'figli': 2, 'condirettrice': 2, 'compagnia': 2, 'incarico': 2, 'storico': 2, 'copilota': 2, 'animatrice': 2, 'deportati': 2, 'secondogenita': 2, 'viceré': 2, 'senatore': 2, 'entomologa': 2, 'restauratrice': 2, 'ordine': 2, 'apertura': 2, 'opere': 2, 'calciatore': 2, 'matrice': 2, 'autori': 2, 'etnomusicologa': 2, 'cadette': 2, 'personalità': 2, 'poetica': 2, 'promotrice': 2, 'commissario': 2, 'internet': 2, 'fotografia': 2, 'artistico': 2, 'classificandosi': 2, 'superiora': 2, 'geografa': 2, 'capogruppo': 2, 'cantanti': 2, 'settimanale': 2, 'compagna': 2, 'interpretò': 2, 'principali': 2, 'concertista': 2, 'benefattrice': 2, 'storici': 2, 'chirurgia': 2, 'arrangiatrice': 2, 'cavallo': 2, 'direttore': 2, 'performance': 2, 'operazione': 2, 'personaggi': 2, 'flautista': 2, 'molti': 2, 'giocava': 2, 'crocerossina': 2, 'inventrice': 2, 'selezionata': 2, 'trasporti': 2, 'psicanalista': 2, 'geologa': 2, 'comico': 2, 'interpreta': 2, 'interpretazione': 2, 'doppio': 2, 'campione': 2, 'moldava': 2, 'tallonatrice': 2, 'amministrazione': 2, 'professore': 1, 'autore': 1, 'fratelli': 1, 'riportano': 1, 'comportamento': 1, 'autobiografico': 1, 'personale': 1, 'bibliografa': 1, 'tubercolosi': 1, 'doppiatore': 1, 'Sarteschi': 1, 'compagno': 1, 'Secondo': 1, 'tecnica': 1, 'skipper': 1, 'distributrice': 1, 'biblioteconomia': 1, 'attori': 1, '1992.Campionessa': 1, 'reportage': 1, 'travestiti': 1, 'palestinesi': 1, 'seconde': 1, 'sacerdotessa': 1, 'batterista': 1, 'acrobatica': 1, 'giudicessa': 1, 'ambasciatrice': 1, '2021.Ambasciatrice': 1, 'cantautore': 1, 'drammaturgo': 1, 'passaggio': 1, 'fattoria': 1, 'ragazze': 1, 'viceallenatrice': 1, 'analitici': 1, 'pattinatore': 1, 'giocatore': 1, 'ingegnere': 1, 'decorato': 1, 'apprezzata': 1, 'osservatrice': 1, 'autobiografici': 1, 'carta': 1, 'permettere': 1, 'conservazione': 1, 'coordinatrice': 1, 'caricaturista': 1, 'messaggera': 1, 'iniziatrice': 1, 'considerate': 1, 'Nocera': 1, 'dimensione': 1, 'suocero': 1, 'curatore': 1, 'lavoratrice': 1, 'illustri': 1, 'chirurga': 1, 'penale': 1, 'neuropsichiatra': 1, 'patologia': 1, 'molte': 1, 'autorità': 1, 'rappresentativa': 1, 'gioielli': 1, 'statistica': 1, 'statistiche': 1, 'capostipite': 1, 'cadetto': 1, 'aristocratiche': 1, 'istruttrice': 1, 'sviluppo': 1, 'fotografico': 1, 'mima': 1, 'programmate': 1, 'giornaliero': 1, 'capace': 1, 'avvitato': 1, 'camerunese': 1, 'ginecologa': 1, 'permesso': 1, 'vincere': 1, 'botanica': 1, 'farmacista': 1, 'videoartista': 1, 'psicologico': 1, 'doppia': 1, 'percorsi': 1, 'sollevatrice': 1, 'porta': 1, 'patriottici': 1, 'spedizioni': 1, 'consacrata': 1, 'psicologia': 1, 'microbiologa': 1, 'centravanti': 1, 'miniatrice': 1, 'scout': 1, 'periodi': 1, 'comunicatrice': 1, 'gentildonna': 1, 'biochimica': 1, 'produttore': 1, 'ingegnera': 1, 'ingegneria': 1, 'sacerdoti': 1, 'chimico': 1, 'pallaggiatrice': 1, 'scoperta': 1, 'astronomia': 1, 'sviluppata': 1, 'svedesi': 1, 'Cerami': 1, 'capitale': 1, 'annunciata': 1, 'archeologia': 1, 'pediatria': 1, 'cariche': 1, 'interno': 1, 'organizzatrice': 1, 'superstiti': 1, 'predicatrice': 1, 'copertura': 1, 'etnologia': 1, 'giornali': 1, 'ricerche': 1, 'camerlengo': 1, 'decoratrice': 1, 'artisti': 1, 'casalese': 1, 'meteorologa': 1, 'concertatrice': 1, 'registrata': 1, 'peruviana': 1, 'Porto': 1, 'cofondatrice': 1, 'operato': 1, 'avanguardie': 1, 'agricoltrice': 1, 'autobiografia': 1, 'operativa': 1, 'telegiornale': 1, 'impero': 1, 'governare': 1, 'ambasciatore': 1, 'persicetana': 1, 'vicedirettrice': 1, 'vignettista': 1, 'seleziona': 1, 'internazionalista': 1, 'irredentista': 1, 'ikebana': 1, 'autobiografica': 1, 'addetta': 1, 'Cerretti': 1, 'installazioni': 1, 'interpretata': 1, 'interpretate': 1, 'artist': 1, 'saperi': 1, '3cerchi/2palle': 1, 'perdita': 1, 'artisticamente': 1, 'chirurgica': 1, 'governante': 1, 'riportato': 1, 'segretario': 1, 'geofisica': 1, 'cerimonia': 1, 'avvocatessa': 1, 'commesso': 1, 'siropalestinese': 1, 'supergigante': 1, 'gigante': 1, 'zootecniche': 1, 'importanza': 1, 'agroalimentare': 1, 'telegiornali': 1, 'letterato': 1, 'doppiato': 1, 'cartoni': 1, 'amanti': 1, 'letterarie': 1, 'segnalare': 1, 'riuscita': 1, 'classificarsi': 1, 'signorina': 1, 'Katiuscia': 1, 'politici': 1, 'redattrice': 1, 'maestro': 1, 'Capizzi': 1, 'arrangiati': 1, 'portavoce': 1, 'sacerdote': 1, 'aiutò': 1, 'sociologia': 1, 'musicali': 1, 'autorevoli': 1, 'infermiere': 1, 'analista': 1, 'Perugia': 1, 'ceramologa': 1, 'riformatrice': 1, 'portatrice': 1, 'editoria': 1, 'interpretando': 1, 'quattordicesima': 1, 'neurologa': 1, 'contenitore': 1, 'interni': 1, 'sperimentare': 1, 'molestata': 1, 'depressa': 1, 'carcere': 1, 'colorista': 1, 'marcatore': 1, 'persiano': 1, 'riportata': 1, 'economia': 1, 'ideatrice': 1, 'librettista': 1, 'annunci': 1, 'Patrice': 1, 'modello': 1, 'Perla': 1, 'annunciatrici': 1, 'guida': 1, 'sportivi': 1, '5.Per': 1, 'oppositrice': 1, 'pressi': 1, 'considera': 1, 'coautrice': 1, 'operano': 1, 'procuratore': 1, 'giornalistica': 1, 'cuoca': 1, 'truffatrice': 1, 'ricoperti': 1, 'ininterrottamente': 1, 'portata': 1, 'fantina': 1, 'sindache': 1, 'indossatrice': 1, 'classificate': 1, 'enogastronomica': 1, 'conservò': 1, 'archivio': 1, 'operetta': 1, 'elicotteri': 1, 'producer': 1, 'fisiologa': 1, 'percezione': 1, 'paleontologa': 1, 'commentatrice': 1, 'insegnato': 1, 'disegno': 1, 'realizzatrice': 1, 'guidata': 1, 'statista': 1, 'ballerine': 1, 'selezione': 1, 'dimostrato': 1, 'opportunità': 1, 'operò': 1, 'fotoreporter': 1, 'cooperazione': 1, 'II.Sociologa': 1, 'forestali': 1, 'ipertricosi': 1, 'portò': 1, 'precedente': 1, 'esercito': 1, 'elettrica': 1, 'editore': 1, 'astrattismo': 1, 'collaboratore': 1, 'geologo': 1, 'ricamatrice': 1, 'cardiologa': 1, 'sceneggiatore': 1, 'arrampicatrice': 1, 'cofondatore': 1, 'vicecampionessa': 1, 'precorritrice': 1, 'analfabetismo': 1, 'questore': 1})\n",
      "Counter({'Fem': 7291, 'Masc': 1108})\n",
      "length of dataset:\n",
      "7852\n",
      "first sentences with occ title found: 6753\n"
     ]
    }
   ],
   "source": [
    "it_female_df2 = pd.read_csv('/mount/arbeitsdaten/studenten2/caulfiea/masters_thesis/sets_for_analysis/it/it_female_occ_2.csv', encoding='utf-8')\n",
    "get_occupations(it_female_df2)"
   ]
  },
  {
   "cell_type": "code",
   "execution_count": 19,
   "metadata": {},
   "outputs": [
    {
     "name": "stdout",
     "output_type": "stream",
     "text": [
      "num intros unavailable\n",
      "0\n",
      "7784\n",
      "Unnamed: 0                            int64\n",
      "wikidata_code                        object\n",
      "title                                object\n",
      "intro                                object\n",
      "gender                               object\n",
      "occupations                          object\n",
      "first_sentence                       object\n",
      "overlapping_occupations              object\n",
      "overlapping_occupations_sentence1    object\n",
      "occupation_in_last_name              object\n",
      "dtype: object\n",
      "Counter({'politico': 1213, 'calciatore': 1179, 'maggio': 798, 'scrittore': 423, 'allenatore': 398, 'giornalista': 379, 'attore': 332, 'pittore': 266, 'cestista': 231, 'per': 195, 'poeta': 189, 'storico': 186, 'avvocato': 174, 'compositore': 163, 'architetto': 146, 'sportivo': 139, 'critico': 123, 'direttore': 120, 'scultore': 118, 'portiere': 113, 'medico': 112, 'saggista': 95, 'produttore': 87, 'conduttore': 85, 'cantante': 77, 'seconda': 76, 'musicista': 74, 'autore': 71, 'cantautore': 71, 'presidente': 68, 'magistrato': 67, 'letterario': 63, 'decorato': 60, 'doppiatore': 58, 'letterato': 58, 'sindacalista': 57, 'sindaco': 56, 'artista': 55, 'ingegnere': 55, 'pilota': 53, 'argentino': 52, 'traduttore': 47, 'deputato': 46, 'arbitro': 44, 'editore': 43, 'matematico': 42, 'economista': 38, 'orchestra': 34, 'tecnico': 33, 'illustratore': 32, 'arrangiatore': 31, 'pianista': 31, 'incisore': 30, 'filologo': 29, 'drammaturgo': 29, 'personaggio': 28, 'astronomo': 27, 'fisico': 26, 'fotografo': 26, 'archeologo': 26, 'paroliere': 25, 'musicale': 25, 'signore': 25, 'disegnatore': 24, 'figlio': 22, 'fantino': 22, 'comandante': 21, 'musica': 21, 'canadese': 21, 'professore': 21, 'presso': 20, 'capo': 19, 'campione': 19, 'chimico': 18, 'doppiaggio': 18, 'semplicemente': 18, 'operaio': 17, 'argento': 17, 'designer': 16, 'insegnante': 16, 'portoricano': 16, 'principalmente': 15, 'musicologo': 15, 'chirurgo': 14, 'artistico': 14, 'considerato': 14, 'bibliotecario': 13, 'maggiore': 13, 'geografo': 13, 'agronomo': 13, 'esperto': 13, 'batterista': 13, 'rapper': 12, 'politologo': 12, 'fratello': 12, 'comico': 12, 'ceramista': 11, 'geologo': 11, 'pluridecorato': 11, 'psichiatra': 11, 'decoratore': 11, 'letteratura': 11, 'capitano': 11, 'periodo': 11, 'poliziotto': 11, 'sottosegretario': 10, 'modello': 10, 'segretario': 10, 'botanico': 10, 'archivista': 10, 'ricercatore': 9, 'sociologo': 9, 'opera': 9, 'operò': 9, 'internazionale': 9, 'secondo': 9, 'svedese': 9, 'portoghese': 9, 'curatore': 9, 'bibliografo': 8, 'riportato': 8, 'librettista': 8, 'maestro': 8, 'marinaio': 8, 'blogger': 8, 'manager': 8, 'coreografo': 7, 'schiacciatore': 7, 'opere': 7, 'nuotatore': 7, 'restauratore': 7, 'commissario': 7, 'esercito': 7, 'montatore': 7, 'statistico': 7, 'importante': 6, 'molti': 6, 'interprete': 6, 'ordine': 6, 'giudice': 6, 'maggiori': 6, 'orologiaio': 6, 'molto': 6, 'principali': 6, 'editoriale': 6, 'governo': 6, 'amministratore': 5, 'ballerino': 5, 'politiche': 5, 'guardia': 5, 'vicepresidente': 5, 'incarichi': 5, 'fotoreporter': 5, 'psicologo': 5, 'senegalese': 5, 'esperienza': 5, 'anatomista': 5, 'procuratore': 5, 'incarico': 5, 'interno': 5, 'predicatore': 5, 'cavaliere': 5, 'politica': 5, 'ricoperto': 5, 'intagliatore': 5, 'architettura': 5, 'paleontologo': 5, 'principale': 4, 'ricerche': 4, 'astrologo': 4, 'stuntman': 4, 'capogruppo': 4, 'livello': 4, 'veterinario': 4, 'dermatologo': 4, 'ostetrico': 4, 'cuoco': 4, 'archivi': 4, 'fotografia': 4, 'Secondo': 4, 'governi': 4, 'mosaicista': 4, 'importanti': 4, 'carica': 4, 'alcune': 4, 'etnomusicologo': 4, 'flautista': 4, 'campionati': 4, 'preparatore': 4, 'portieri': 4, 'costruttore': 4, 'zoologo': 4, 'sport': 4, 'biologo': 4, 'maggiormente': 4, 'programma': 3, 'personaggi': 3, 'fisiologo': 3, 'protestante': 3, 'sportiva': 3, 'antropologo': 3, 'campionato': 3, 'sviluppo': 3, 'figli': 3, 'ginecologo': 3, 'rappresentante': 3, 'batteriologo': 3, 'addetto': 3, 'farmacista': 3, 'cartografo': 3, 'ordinario': 3, 'personale': 3, 'astrofisico': 3, 'storici': 3, 'narratore': 3, 'biografo': 3, 'economica': 3, 'tiratore': 3, 'madre': 3, 'centravanti': 3, 'superstite': 3, 'musical': 3, 'medicina': 3, 'gastronomo': 3, 'deportato': 3, 'capostipite': 3, 'preside': 3, 'dimostrato': 3, 'biochimico': 3, 'trapianto': 2, 'riguardo': 2, 'geodeta': 2, 'musicisti': 2, 'secondogenito': 2, 'stuccatore': 2, 'governatore': 2, 'storicamente': 2, 'permanente': 2, 'tallonatore': 2, 'metropolita': 2, 'biografia': 2, 'farmacologo': 2, 'microbiologo': 2, 'idrologo': 2, 'accertate': 2, 'preparazione': 2, 'guida': 2, 'attrice': 2, 'ragazzi': 2, 'spedizione': 2, 'penale': 2, 'telecomunicazioni': 2, 'astrattismo': 2, 'imitatore': 2, 'apprezzati': 2, 'peruviano': 2, 'magistratura': 2, 'reportage': 2, 'imperiale': 2, 'economico': 2, 'vicedirettore': 2, 'sovrintendente': 2, 'elettrotecnico': 2, 'archeologia': 2, 'caposcuola': 2, 'parole': 2, 'capocomico': 2, 'amministrazione': 2, 'microbiologia': 2, 'fautore': 2, 'coordinatore': 2, 'settimanale': 2, 'editoria': 2, 'osservatore': 2, 'ricerca': 2, 'vicesindaco': 2, 'portoricana': 2, 'imperatore': 2, 'navigatore': 2, 'compagnia': 2, 'consulente': 2, 'rappresentative': 2, 'entomologo': 2, 'neurologo': 2, 'appuntato': 2, 'ispettore': 2, 'arbitrale': 2, 'commesso': 2, 'deportati': 2, 'caricaturista': 2, 'stopper': 2, 'umorista': 2, 'sacerdote': 2, 'meteorologo': 2, 'genetista': 2, 'ebanista': 2, 'vicesegretario': 2, 'palestinese': 2, 'giocava': 2, 'artigliere': 2, 'tuffatore': 2, 'mineralogista': 2, 'conservazione': 2, 'scout': 2, 'capitale': 2, 'architettonica': 2, 'apprezzato': 2, 'psicologia': 2, 'trapiantati': 2, 'impiegato': 1, 'quattordicesimo': 1, 'illustri': 1, 'irredentista': 1, 'cartello': 1, 'interpretato': 1, 'patologo': 1, 'editorialista': 1, 'comando': 1, 'operative': 1, 'guidata': 1, 'sportive': 1, 'periodici': 1, 'giardinaggio': 1, 'libraio': 1, 'sartoria': 1, 'oramai': 1, 'arbitri': 1, 'casertana': 1, 'madrelingua': 1, 'Caserta': 1, 'geografi': 1, 'geografia': 1, 'figliastro': 1, 'apprezzamento': 1, 'conduttrice': 1, 'antitubercolare': 1, 'disperso': 1, 'Nocera': 1, 'geometra': 1, 'superbike': 1, '1997.Per': 1, 'conservatorio': 1, 'metalmeccanico': 1, 'farmaceutica': 1, 'importatore': 1, 'accompagnare': 1, 'ceramisti': 1, 'impero': 1, 'astronomiche': 1, 'astronomici': 1, 'distacca': 1, 'antropologia': 1, 'paleontologia': 1, 'rappresentò': 1, 'assemblea': 1, 'guidò': 1, 'analista': 1, 'biologici': 1, 'ospitato': 1, 'insegnato': 1, 'carceri': 1, 'capomafia': 1, 'copista': 1, 'capi': 1, 'maglia': 1, 'compagni': 1, 'cercandole': 1, 'sviluppato': 1, 'archivistico': 1, 'distaccato': 1, 'previsione': 1, 'passaggio': 1, 'biomusica': 1, 'percussionista': 1, 'Maestro': 1, 'superiori': 1, 'editor': 1, 'comportamento': 1, 'deportazione': 1, 'letterati': 1, 'autorevoli': 1, 'Peri': 1, 'profumiere': 1, 'recupero': 1, 'incrociatore': 1, 'cappellano': 1, 'musicoterapeuta': 1, 'provveditore': 1, 'spedizioni': 1, 'comandò': 1, 'meccanico': 1, 'insegnata': 1, 'duchessa': 1, 'rappresentazioni': 1, 'interpreta': 1, 'travesti': 1, 'cardiochirurgo': 1, 'chimica': 1, 'capoluogo': 1, 'internazionalista': 1, 'antropologiche': 1, 'argentina': 1, 'indirizzo': 1, 'Casero': 1, 'maresciallo': 1, 'concertista': 1, 'addestratori': 1, 'trasporto': 1, 'Perugia': 1, 'capotreno': 1, 'molecolare': 1, 'artisti': 1, 'vicereame': 1, 'signoria': 1, 'esercitarvi': 1, 'officer': 1, 'rappresentato': 1, 'crittanalista': 1, 'geometria': 1, 'camerale': 1, 'vicecomandante': 1, 'però': 1, 'permette': 1, 'cappella': 1, 'producer': 1, 'sociologia': 1, 'Mangona': 1, 'cartoonist': 1, 'Capo': 1, 'segnalatore': 1, 'artiglieria': 1, 'farmaceutico': 1, 'macchinista': 1, 'apicoltore': 1, 'decorazione': 1, 'comandata': 1, 'pressi': 1, 'perpetuo': 1, 'aeroporto': 1, 'doppiatrice': 1, 'direttrice': 1, 'operante': 1, 'paesaggista': 1, 'pianificazione': 1, 'camerunese': 1, 'persone': 1, 'fiume': 1, 'cavalleria': 1, 'sottocapo': 1, 'portarono': 1, 'psicanalista': 1, 'psicoanalisi': 1, 'Pompeo': 1, 'certi': 1, 'conservatore': 1, 'esperti': 1, 'possidente': 1, 'cerimonia': 1, 'economia': 1, 'aggiudicò': 1, 'cassazione': 1, 'Barbará': 1, 'maestri': 1, 'poetiche': 1, 'figlia': 1, 'bersagliere': 1, 'imitato': 1, 'operazioni': 1, 'magister': 1, 'alimentare': 1, 'orchestrale': 1, 'etnologo': 1, 'burattinaio': 1, 'annunciatore': 1, 'Gigante': 1, 'molte': 1, 'apertura': 1, 'tecnica': 1, 'ricercatrice': 1, 'doppiato': 1, 'chirurgia': 1, 'pediatrica': 1, 'repertorio': 1, 'combatterono': 1, 'cerimonie': 1, 'massaggiatore': 1, 'programmi': 1, 'giornalistico': 1, 'pilotato': 1, 'elicotteri': 1, 'Per': 1, 'identificato': 1, 'autorizzato': 1, 'portare': 1, 'donne': 1, 'internazionali': 1, 'cavalli': 1, 'statistica': 1, 'vetraio': 1, 'elettricista': 1, 'insegnò': 1, 'dimostra': 1, 'biocapitalismo': 1, 'democratico': 1, 'contrappunto': 1, 'filologia': 1, 'comandato': 1, 'operato': 1, 'ecclesiastico': 1, 'appuntamenti': 1, 'stampatore': 1, 'personalità': 1, 'monsignore': 1, 'pediatra': 1, 'segnalò': 1, 'interpreti': 1, 'cartoni': 1, 'fratelli': 1, 'pittori': 1, 'sanitario': 1, 'analisi': 1, 'micologo': 1, 'neuropsichiatria': 1, 'compositori': 1, 'vignette': 1, 'umoristiche': 1, 'investigatore': 1, 'governativi': 1, '1897.Figlio': 1, 'scopritore': 1, 'medica': 1, 'amministrativi': 1, 'selezione': 1, 'protozoologo': 1, 'cartularium': 1, 'zootecnico': 1, 'paletnologo': 1, 'artist': 1, 'epistemologo': 1, 'signora': 1, 'autorità': 1, 'cardatore': 1, 'decapitato': 1, 'regina': 1, 'cancerogenesi': 1, 'cemento': 1, 'operazione': 1, 'ordinamento': 1, 'giornalismo': 1, 'scultori': 1, 'operativa': 1, 'riguardanti': 1, 'compilandone': 1, 'sequestri': 1, 'persona': 1, 'superiders': 1, 'musicali': 1, 'interna': 1, 'benefattore': 1, 'romagnolo': 1, 'guidato': 1})\n",
      "Counter({'Masc': 8818, 'Fem': 388})\n",
      "length of dataset:\n",
      "7784\n",
      "first sentences with occ title found: 6156\n"
     ]
    }
   ],
   "source": [
    "it_male_df = pd.read_csv('/mount/arbeitsdaten/studenten2/caulfiea/masters_thesis/sets_for_analysis/it/it_male_occ_all.csv', encoding='utf-8')\n",
    "get_occupations(it_male_df)"
   ]
  },
  {
   "cell_type": "code",
   "execution_count": 28,
   "metadata": {},
   "outputs": [
    {
     "name": "stdout",
     "output_type": "stream",
     "text": [
      "num intros unavailable\n",
      "0\n",
      "7784\n",
      "Unnamed: 0                            int64\n",
      "wikidata_code                        object\n",
      "title                                object\n",
      "intro                                object\n",
      "gender                               object\n",
      "occupations                          object\n",
      "first_sentence                       object\n",
      "overlapping_occupations              object\n",
      "overlapping_occupations_sentence1    object\n",
      "occupation_in_last_name              object\n",
      "dtype: object\n",
      "Counter({'politico': 1213, 'calciatore': 1179, 'scrittore': 423, 'allenatore': 398, 'giornalista': 379, 'attore': 332, 'pittore': 266, 'cestista': 231, 'per': 195, 'poeta': 189, 'storico': 186, 'imprenditore': 177, 'avvocato': 174, 'compositore': 163, 'giocatore': 154, 'architetto': 146, 'sportivo': 139, 'critico': 123, 'direttore': 120, 'scultore': 118, 'portiere': 113, 'medico': 112, 'saggista': 95, 'produttore': 87, 'conduttore': 85, 'cantante': 77, 'seconda': 76, 'musicista': 74, 'autore': 71, 'aviatore': 71, 'cantautore': 71, 'sceneggiatore': 70, 'presidente': 68, 'magistrato': 67, 'letterario': 63, 'fondatore': 61, 'decorato': 60, 'doppiatore': 58, 'letterato': 58, 'sindacalista': 57, 'sindaco': 56, 'artista': 55, 'ingegnere': 55, 'pilota': 53, 'argentino': 52, 'traduttore': 47, 'deputato': 46, 'arbitro': 44, 'editore': 43, 'matematico': 42, 'economista': 38, 'orchestra': 34, 'senatore': 34, 'tecnico': 33, 'illustratore': 32, 'arrangiatore': 31, 'pianista': 31, 'incisore': 30, 'filologo': 29, 'drammaturgo': 29, 'personaggio': 28, 'astronomo': 27, 'fisico': 26, 'fotografo': 26, 'archeologo': 26, 'paroliere': 25, 'musicale': 25, 'signore': 25, 'disegnatore': 24, 'figlio': 22, 'fantino': 22, 'comandante': 21, 'musica': 21, 'canadese': 21, 'professore': 21, 'presso': 20, 'capo': 19, 'campione': 19, 'chimico': 18, 'doppiaggio': 18, 'semplicemente': 18, 'operaio': 17, 'argento': 17, 'designer': 16, 'insegnante': 16, 'educatore': 16, 'portoricano': 16, 'principalmente': 15, 'musicologo': 15, 'vincitore': 15, 'chirurgo': 14, 'artistico': 14, 'considerato': 14, 'bibliotecario': 13, 'geografo': 13, 'agronomo': 13, 'esperto': 13, 'batterista': 13, 'rapper': 12, 'politologo': 12, 'fratello': 12, 'comico': 12, 'ceramista': 11, 'geologo': 11, 'collaboratore': 11, 'pluridecorato': 11, 'psichiatra': 11, 'decoratore': 11, 'letteratura': 11, 'capitano': 11, 'periodo': 11, 'poliziotto': 11, 'divulgatore': 10, 'sottosegretario': 10, 'modello': 10, 'segretario': 10, 'botanico': 10, 'archivista': 10, 'ricercatore': 9, 'sociologo': 9, 'opera': 9, 'operò': 9, 'internazionale': 9, 'secondo': 9, 'svedese': 9, 'portoghese': 9, 'curatore': 9, 'settore': 9, 'bibliografo': 8, 'ambasciatore': 8, 'riportato': 8, 'librettista': 8, 'maestro': 8, 'viaggiatore': 8, 'marinaio': 8, 'blogger': 8, 'inventore': 8, 'manager': 8, 'coreografo': 7, 'schiacciatore': 7, 'opere': 7, 'nuotatore': 7, 'restauratore': 7, 'commissario': 7, 'esercito': 7, 'montatore': 7, 'statistico': 7, 'importante': 6, 'molti': 6, 'interprete': 6, 'ordine': 6, 'giudice': 6, 'orologiaio': 6, 'molto': 6, 'principali': 6, 'editoriale': 6, 'governo': 6, 'danzatore': 5, 'amministratore': 5, 'ballerino': 5, 'politiche': 5, 'guardia': 5, 'vicepresidente': 5, 'incarichi': 5, 'animatore': 5, 'fotoreporter': 5, 'psicologo': 5, 'senegalese': 5, 'esperienza': 5, 'anatomista': 5, 'procuratore': 5, 'incarico': 5, 'sciatore': 5, 'interno': 5, 'predicatore': 5, 'cavaliere': 5, 'politica': 5, 'ricoperto': 5, 'intagliatore': 5, 'architettura': 5, 'cofondatore': 5, 'esploratore': 5, 'rettore': 5, 'paleontologo': 5, 'principale': 4, 'ricerche': 4, 'ideatore': 4, 'astrologo': 4, 'stuntman': 4, 'pastore': 4, 'capogruppo': 4, 'livello': 4, 'veterinario': 4, 'dermatologo': 4, 'ostetrico': 4, 'cuoco': 4, 'archivi': 4, 'fotografia': 4, 'Secondo': 4, 'governi': 4, 'mosaicista': 4, 'importanti': 4, 'carica': 4, 'alcune': 4, 'etnomusicologo': 4, 'flautista': 4, 'campionati': 4, 'preparatore': 4, 'portieri': 4, 'costruttore': 4, 'zoologo': 4, 'sport': 4, 'palleggiatore': 4, 'biologo': 4, 'programma': 3, 'editrice': 3, 'personaggi': 3, 'armatore': 3, 'fisiologo': 3, 'protestante': 3, 'sportiva': 3, 'antropologo': 3, 'campionato': 3, 'sviluppo': 3, 'figli': 3, 'ginecologo': 3, 'rappresentante': 3, 'batteriologo': 3, 'addetto': 3, 'sollevatore': 3, 'farmacista': 3, 'cartografo': 3, 'ordinario': 3, 'personale': 3, 'astrofisico': 3, 'progenitore': 3, 'storici': 3, 'narratore': 3, 'biografo': 3, 'economica': 3, 'tiratore': 3, 'madre': 3, 'centravanti': 3, 'superstite': 3, 'musical': 3, 'medicina': 3, 'miniatore': 3, 'gastronomo': 3, 'deportato': 3, 'capostipite': 3, 'preside': 3, 'dimostrato': 3, 'biochimico': 3, 'trapianto': 2, 'riguardo': 2, 'geodeta': 2, 'musicisti': 2, 'creatore': 2, 'secondogenito': 2, 'stuccatore': 2, 'governatore': 2, 'storicamente': 2, 'collaudatore': 2, 'detentore': 2, 'permanente': 2, 'tallonatore': 2, 'metropolita': 2, 'biografia': 2, 'farmacologo': 2, 'microbiologo': 2, 'idrologo': 2, 'accertate': 2, 'preparazione': 2, 'guida': 2, 'attrice': 2, 'ragazzi': 2, 'spedizione': 2, 'dottore': 2, 'penale': 2, 'telecomunicazioni': 2, 'astrattismo': 2, 'imitatore': 2, 'apprezzati': 2, 'peruviano': 2, 'magistratura': 2, 'reportage': 2, 'realizzatore': 2, 'imperiale': 2, 'economico': 2, 'vicedirettore': 2, 'sovrintendente': 2, 'elettrotecnico': 2, 'archeologia': 2, 'caposcuola': 2, 'parole': 2, 'capocomico': 2, 'amministrazione': 2, 'microbiologia': 2, 'fautore': 2, 'coordinatore': 2, 'commentatore': 2, 'settimanale': 2, 'editoria': 2, 'osservatore': 2, 'ricerca': 2, 'vicesindaco': 2, 'portoricana': 2, 'imperatore': 2, 'navigatore': 2, 'compagnia': 2, 'oratore': 2, 'consulente': 2, 'rappresentative': 2, 'entomologo': 2, 'neurologo': 2, 'appuntato': 2, 'ispettore': 2, 'arbitrale': 2, 'commesso': 2, 'deportati': 2, 'caricaturista': 2, 'stopper': 2, 'umorista': 2, 'sacerdote': 2, 'meteorologo': 2, 'genetista': 2, 'ebanista': 2, 'vicesegretario': 2, 'palestinese': 2, 'giocava': 2, 'artigliere': 2, 'tuffatore': 2, 'mineralogista': 2, 'conservazione': 2, 'scout': 2, 'capitale': 2, 'architettonica': 2, 'apprezzato': 2, 'psicologia': 2, 'trapiantati': 2, 'impiegato': 1, 'organizzatore': 1, 'quattordicesimo': 1, 'illustri': 1, 'irredentista': 1, 'cartello': 1, 'interpretato': 1, 'patologo': 1, 'editorialista': 1, 'comando': 1, 'operative': 1, 'guidata': 1, 'sportive': 1, 'periodici': 1, 'giardinaggio': 1, 'libraio': 1, 'sartoria': 1, 'oramai': 1, 'arbitri': 1, 'casertana': 1, 'madrelingua': 1, 'Caserta': 1, 'geografi': 1, 'geografia': 1, 'figliastro': 1, 'apprezzamento': 1, 'conduttrice': 1, 'antitubercolare': 1, 'disperso': 1, 'Nocera': 1, 'geometra': 1, 'superbike': 1, '1997.Per': 1, 'arrampicatore': 1, 'conservatorio': 1, 'metalmeccanico': 1, 'farmaceutica': 1, 'importatore': 1, 'accompagnare': 1, 'ceramisti': 1, 'impero': 1, 'inquisitore': 1, 'astronomiche': 1, 'astronomici': 1, 'distacca': 1, 'antropologia': 1, 'paleontologia': 1, 'rappresentò': 1, 'assemblea': 1, 'guidò': 1, 'pattinatore': 1, 'analista': 1, 'biologici': 1, 'ospitato': 1, 'insegnato': 1, 'carceri': 1, 'capomafia': 1, 'copista': 1, 'tatuatore': 1, 'capi': 1, 'promotore': 1, 'produttrice': 1, 'compagni': 1, 'cercandole': 1, 'sviluppato': 1, 'archivistico': 1, 'distaccato': 1, 'previsione': 1, 'passaggio': 1, 'biomusica': 1, 'percussionista': 1, 'Maestro': 1, 'superiori': 1, 'editor': 1, 'danzatrice': 1, 'comportamento': 1, 'deportazione': 1, 'letterati': 1, 'autorevoli': 1, 'Peri': 1, 'profumiere': 1, 'recupero': 1, 'incrociatore': 1, 'cappellano': 1, 'musicoterapeuta': 1, 'provveditore': 1, 'spedizioni': 1, 'comandò': 1, 'meccanico': 1, 'insegnata': 1, 'duchessa': 1, 'rappresentazioni': 1, 'interpreta': 1, 'travesti': 1, 'cardiochirurgo': 1, 'chimica': 1, 'capoluogo': 1, 'internazionalista': 1, 'antropologiche': 1, 'argentina': 1, 'indirizzo': 1, 'Casero': 1, 'maresciallo': 1, 'concertista': 1, 'addestratori': 1, 'trasporto': 1, 'Perugia': 1, 'capotreno': 1, 'pretore': 1, 'molecolare': 1, 'artisti': 1, 'questore': 1, 'vicereame': 1, 'signoria': 1, 'esercitarvi': 1, 'officer': 1, 'rappresentato': 1, 'crittanalista': 1, 'geometria': 1, 'camerale': 1, 'vicecomandante': 1, 'però': 1, 'permette': 1, 'cappella': 1, 'producer': 1, 'sociologia': 1, 'Mangona': 1, 'cartoonist': 1, 'Capo': 1, 'segnalatore': 1, 'artiglieria': 1, 'farmaceutico': 1, 'macchinista': 1, 'apicoltore': 1, 'cultore': 1, 'decorazione': 1, 'comandata': 1, 'pressi': 1, 'perpetuo': 1, 'aeroporto': 1, 'doppiatrice': 1, 'direttrice': 1, 'operante': 1, 'paesaggista': 1, 'pianificazione': 1, 'vincitorenel': 1, 'camerunese': 1, 'persone': 1, 'fiume': 1, 'cavalleria': 1, 'sottocapo': 1, 'portarono': 1, 'psicanalista': 1, 'psicoanalisi': 1, 'Pompeo': 1, 'certi': 1, 'conservatore': 1, 'esperti': 1, 'possidente': 1, 'cerimonia': 1, 'economia': 1, 'aggiudicò': 1, 'cassazione': 1, 'Barbará': 1, 'maestri': 1, 'poetiche': 1, 'evangelizzatrice': 1, 'figlia': 1, 'bersagliere': 1, 'imitato': 1, 'operazioni': 1, 'alimentare': 1, 'orchestrale': 1, 'etnologo': 1, 'burattinaio': 1, 'annunciatore': 1, 'Gigante': 1, 'molte': 1, 'apertura': 1, 'tecnica': 1, 'ricercatrice': 1, 'doppiato': 1, 'chirurgia': 1, 'pediatrica': 1, 'repertorio': 1, 'combatterono': 1, 'cerimonie': 1, 'massaggiatore': 1, 'programmi': 1, 'giornalistico': 1, 'pilotato': 1, 'elicotteri': 1, 'motore': 1, 'monomotore': 1, 'plurimotore': 1, 'Per': 1, 'identificato': 1, 'autorizzato': 1, 'portare': 1, 'donne': 1, 'internazionali': 1, 'cavalli': 1, 'statistica': 1, 'vetraio': 1, 'elettricista': 1, 'insegnò': 1, 'dimostra': 1, 'biocapitalismo': 1, 'democratico': 1, 'contrappunto': 1, 'trovatore': 1, 'filologia': 1, 'comandato': 1, 'operato': 1, 'ecclesiastico': 1, 'appuntamenti': 1, 'stampatore': 1, 'personalità': 1, 'monsignore': 1, 'pediatra': 1, 'segnalò': 1, 'prosecutore': 1, 'interpreti': 1, 'cartoni': 1, 'sostenitore': 1, 'fratelli': 1, 'pittori': 1, 'sanitario': 1, 'analisi': 1, 'micologo': 1, 'neuropsichiatria': 1, 'compositori': 1, 'lottatore': 1, 'vignette': 1, 'umoristiche': 1, 'investigatore': 1, 'governativi': 1, '1897.Figlio': 1, 'scopritore': 1, 'medica': 1, 'amministrativi': 1, 'selezione': 1, 'protozoologo': 1, 'cartularium': 1, 'suonatore': 1, 'zootecnico': 1, 'paletnologo': 1, 'artist': 1, 'epistemologo': 1, 'signora': 1, 'autorità': 1, 'untore': 1, 'cardatore': 1, 'distributore': 1, 'decapitato': 1, 'regina': 1, 'cancerogenesi': 1, 'cemento': 1, 'operazione': 1, 'indagatore': 1, 'ordinamento': 1, 'giornalismo': 1, 'scultori': 1, 'operativa': 1, 'riguardanti': 1, 'compilandone': 1, 'sequestri': 1, 'persona': 1, 'presentatore': 1, 'superiders': 1, 'musicali': 1, 'interna': 1, 'riformatore': 1, 'benefattore': 1, 'guidato': 1, 'attentatore': 1})\n",
      "Counter({'Masc': 8759, 'Fem': 393})\n",
      "length of dataset:\n",
      "7784\n",
      "first sentences with occ title found: 6256\n"
     ]
    }
   ],
   "source": [
    "it_male_df2 = pd.read_csv('/mount/arbeitsdaten/studenten2/caulfiea/masters_thesis/sets_for_analysis/it/it_male_occ_2.csv', encoding='utf-8')\n",
    "get_occupations(it_male_df2)"
   ]
  }
 ],
 "metadata": {
  "kernelspec": {
   "display_name": "my_venv",
   "language": "python",
   "name": "python3"
  },
  "language_info": {
   "codemirror_mode": {
    "name": "ipython",
    "version": 3
   },
   "file_extension": ".py",
   "mimetype": "text/x-python",
   "name": "python",
   "nbconvert_exporter": "python",
   "pygments_lexer": "ipython3",
   "version": "3.10.16"
  }
 },
 "nbformat": 4,
 "nbformat_minor": 2
}
