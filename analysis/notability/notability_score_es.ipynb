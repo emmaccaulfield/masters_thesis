{
 "cells": [
  {
   "cell_type": "code",
   "execution_count": 2,
   "metadata": {},
   "outputs": [],
   "source": [
    "import spacy \n",
    "import gzip\n",
    "import re \n",
    "import pandas as pd\n",
    "from spacy.lang.en import English\n",
    "from collections import Counter\n",
    "from itertools import chain\n",
    "import ahocorasick\n",
    "import ast\n",
    "from analyze_m_data import get_occupations_list_en, get_occupations_list\n",
    "from spacy.lang.de import German\n",
    "from spacy.lang.it import Italian\n",
    "from spacy.lang.es import Spanish \n",
    "import matplotlib.pyplot as plt\n",
    "import itertools\n",
    "from collections import Counter\n",
    "from operator import itemgetter"
   ]
  },
  {
   "cell_type": "code",
   "execution_count": 8,
   "metadata": {},
   "outputs": [
    {
     "name": "stdout",
     "output_type": "stream",
     "text": [
      "  wikidata_code   birth   death  updated_death_date approx_birth approx_death  \\\n",
      "0      Q1000002  1932.0  1990.0                 NaN          NaN          NaN   \n",
      "1      Q1000005  1860.0  1927.0                 NaN          NaN          NaN   \n",
      "2      Q1000006  1971.0     NaN                 NaN          NaN          NaN   \n",
      "3      Q1000015  1983.0     NaN                 NaN          NaN          NaN   \n",
      "4      Q1000023  1912.0  1977.0                 NaN          NaN          NaN   \n",
      "5      Q1000026  1928.0  2016.0                 NaN          NaN          NaN   \n",
      "6      Q1000034  1818.0  1894.0                 NaN          NaN          NaN   \n",
      "7      Q1000044  1907.0  1980.0                 NaN          NaN          NaN   \n",
      "8      Q1000045  1915.0  1987.0                 NaN          NaN        circa   \n",
      "9      Q1000048  1891.0  1962.0                 NaN          NaN          NaN   \n",
      "\n",
      "   birth_min  birth_max  death_min  death_max  ... area2_of_rattachment  \\\n",
      "0     1932.0     1932.0     1990.0     1990.0  ...              Missing   \n",
      "1     1860.0     1860.0     1927.0     1927.0  ...              Missing   \n",
      "2     1971.0     1971.0        NaN        NaN  ...              Missing   \n",
      "3     1983.0     1983.0        NaN        NaN  ...              Missing   \n",
      "4     1912.0     1912.0     1977.0     1977.0  ...              Missing   \n",
      "5     1928.0     1928.0     2016.0     2016.0  ...              Missing   \n",
      "6     1818.0     1818.0     1894.0     1894.0  ...              Missing   \n",
      "7     1907.0     1907.0     1980.0     1980.0  ...              Missing   \n",
      "8     1915.0     1915.0     1987.0     1987.0  ...              Missing   \n",
      "9     1891.0     1891.0     1962.0     1962.0  ...              Missing   \n",
      "\n",
      "                             list_wikipedia_editions un_region  \\\n",
      "0                                             dewiki    Europe   \n",
      "1  dewiki|cswiki|enwiki|eowiki|itwiki|kkwiki|rowi...    Europe   \n",
      "2                                             dewiki    Europe   \n",
      "3                                             dewiki    Europe   \n",
      "4                                             dewiki    Europe   \n",
      "5                                             dewiki   America   \n",
      "6                                      dewiki|svwiki    Europe   \n",
      "7                                             dewiki    Europe   \n",
      "8                                             dewiki    Europe   \n",
      "9                                             dewiki    Europe   \n",
      "\n",
      "  group_wikipedia_editions      bplo1      dplo1      bpla1      dpla1  \\\n",
      "0                      grB  11.833333  12.420000  53.416668  54.381390   \n",
      "1                      grA  12.929798  14.421389  49.440605  50.087502   \n",
      "2                      grB   9.191944        NaN  48.897499        NaN   \n",
      "3                      grB  13.383333        NaN  52.516666        NaN   \n",
      "4                      grB  13.350000   8.400000  52.433300  49.016666   \n",
      "5                      grB -73.990280 -74.656944  40.692780  40.352222   \n",
      "6                      grB   7.667770   8.400000  47.957283  49.016666   \n",
      "7                      grB  16.372499  16.372499  48.208332  48.208332   \n",
      "8                      grB        NaN        NaN        NaN        NaN   \n",
      "9                      grB  13.835800  12.375000  51.194901  51.340000   \n",
      "\n",
      "   pantheon_1                                     level3_all_occ  \n",
      "0           0  D:_playwright_journalist_writer_screenwriter_P...  \n",
      "1           0  D:_writer_journalist_P:_naturalist_writer_jour...  \n",
      "2           0  D:_film_screenwriter_film_P:_regisseur_autor_f...  \n",
      "3           0                      D:_actor_P:_schauspiel_German  \n",
      "4           0      D:_judge_jurist_P:_ richter_verfassung_German  \n",
      "5           0                         D:_curator_P:_kurat_German  \n",
      "6           0  D:_mathematician_P:_mathematiker_German_matema...  \n",
      "7           0      D:_professor_psychologist_P:_professor_German  \n",
      "8           0  D:_journalist_father_P:_journalist_spion_offiz...  \n",
      "9           0        D:_philologist_academic_P:_philologe_German  \n",
      "\n",
      "[10 rows x 49 columns]\n",
      "Index(['wikidata_code', 'birth', 'death', 'updated_death_date', 'approx_birth',\n",
      "       'approx_death', 'birth_min', 'birth_max', 'death_min', 'death_max',\n",
      "       'gender', 'level1_main_occ', 'name', 'un_subregion', 'birth_estimation',\n",
      "       'death_estimation', 'bigperiod_birth_graph_b',\n",
      "       'bigperiod_death_graph_b', 'curid', 'level2_main_occ', 'freq_main_occ',\n",
      "       'freq_second_occ', 'level2_second_occ', 'level3_main_occ',\n",
      "       'bigperiod_birth', 'bigperiod_death', 'wiki_readers_2015_2018',\n",
      "       'non_missing_score', 'total_count_words_b', 'number_wiki_editions',\n",
      "       'total_noccur_links_b', 'sum_visib_ln_5criteria',\n",
      "       'ranking_visib_5criteria', 'all_geography_groups',\n",
      "       'string_citizenship_raw_d', 'citizenship_1_b', 'citizenship_2_b',\n",
      "       'list_areas_of_rattach', 'area1_of_rattachment', 'area2_of_rattachment',\n",
      "       'list_wikipedia_editions', 'un_region', 'group_wikipedia_editions',\n",
      "       'bplo1', 'dplo1', 'bpla1', 'dpla1', 'pantheon_1', 'level3_all_occ'],\n",
      "      dtype='object')\n"
     ]
    }
   ],
   "source": [
    "filename = \"/mount/studenten/projects/caulfiea/cross-verified-database.csv.gz\"\n",
    "csvFilename = gzip.open(filename, 'rb')\n",
    "df = pd.read_csv(csvFilename, encoding='latin-1')\n",
    "print(df.head(10))\n",
    "print(df.columns)"
   ]
  },
  {
   "cell_type": "code",
   "execution_count": 9,
   "metadata": {},
   "outputs": [],
   "source": [
    "spanish_female_df = pd.read_csv('/mount/arbeitsdaten/studenten2/caulfiea/masters_thesis/sets_for_analysis/es/es_female_occ_decoded.csv', encoding=\"utf-8\")\n",
    "es_female_filename = \"/mount/arbeitsdaten/studenten2/caulfiea/masters_thesis/datasets/final_sets/es_female_dataset.csv\"\n",
    "es_female_df = pd.read_csv(es_female_filename, names= ['wikidata_code', 'title', 'intro', 'gender', 'occupations'],header=0, encoding='utf-8')"
   ]
  },
  {
   "cell_type": "code",
   "execution_count": 10,
   "metadata": {},
   "outputs": [
    {
     "name": "stdout",
     "output_type": "stream",
     "text": [
      "8801\n"
     ]
    }
   ],
   "source": [
    "es_female_codes = spanish_female_df['wikidata_code'].to_list()\n",
    "df2 = df.loc[df['wikidata_code'].isin(es_female_codes)]\n",
    "print(df2.shape[0])"
   ]
  },
  {
   "cell_type": "code",
   "execution_count": 11,
   "metadata": {},
   "outputs": [
    {
     "name": "stdout",
     "output_type": "stream",
     "text": [
      "   Unnamed: 0 wikidata_code                    title  \\\n",
      "0           0       Q102213            matilde horne   \n",
      "1           1     Q10290059          glaura villalba   \n",
      "2           2     Q10325612  margarida pinto correia   \n",
      "3           3     Q10346162         patrícia barboza   \n",
      "4           4     Q10354034         priscilla moreno   \n",
      "\n",
      "                                               intro  gender  \\\n",
      "0  matilde zagalsky (buenos aires, argentina, 29 ...  female   \n",
      "1  glaura maria amorim villalba (1978) conocida s...  female   \n",
      "2  maria margarida amado pinto correia (lisboa, 3...  female   \n",
      "3  patrícia barboza es una escritora y activista ...  female   \n",
      "4  cantautora de origen brasileño y panameño (24 ...  female   \n",
      "\n",
      "                                       occupations  \\\n",
      "0                                   ['translator']   \n",
      "1                                   ['journalist']   \n",
      "2  ['journalist', 'television presenter', 'actor']   \n",
      "3                                       ['writer']   \n",
      "4                                     ['vocalist']   \n",
      "\n",
      "                                      first_sentence  \\\n",
      "0  Matilde Zagalsky (Buenos Aires, Argentina, 29 ...   \n",
      "1  Glaura Maria Amorim Villalba (1978) conocida s...   \n",
      "2  Maria Margarida Amado Pinto Correia (Lisboa, 3...   \n",
      "3  Patrícia Barboza es una escritora y activista ...   \n",
      "4  Cantautora de origen brasileño y panameño (24 ...   \n",
      "\n",
      "                             overlapping_occupations  \\\n",
      "0                          [{'traductora': ['Fem']}]   \n",
      "1  [{'periodista': []}, {'editora': ['Fem']}, {'p...   \n",
      "2  [{'actriz': ['Fem']}, {'periodista': []}, {'pr...   \n",
      "3  [{'escritora': ['Fem']}, {'activista': []}, {'...   \n",
      "4  [{'musica.a': []}, {'participa': []}, {'cantau...   \n",
      "\n",
      "                   overlapping_occupations_sentence1 occupation_in_last_name  \\\n",
      "0                          [{'traductora': ['Fem']}]                      []   \n",
      "1                               [{'periodista': []}]                      []   \n",
      "2  [{'actriz': ['Fem']}, {'periodista': []}, {'pr...                      []   \n",
      "3        [{'escritora': ['Fem']}, {'activista': []}]                      []   \n",
      "4                              [{'musica': ['Fem']}]                      []   \n",
      "\n",
      "   number_wiki_editions  sum_visib_ln_5criteria  \n",
      "0                     1               18.389463  \n",
      "1                     1               15.495677  \n",
      "2                     1               16.396687  \n",
      "3                     1               16.487431  \n",
      "4                     1               15.188942  \n"
     ]
    }
   ],
   "source": [
    "notability_scores = df2[['wikidata_code','number_wiki_editions','sum_visib_ln_5criteria']]\n",
    "result = pd.merge(spanish_female_df, notability_scores, on='wikidata_code')\n",
    "print(result.head())"
   ]
  },
  {
   "cell_type": "code",
   "execution_count": 12,
   "metadata": {},
   "outputs": [
    {
     "name": "stdout",
     "output_type": "stream",
     "text": [
      "Index(['Unnamed: 0', 'wikidata_code', 'title', 'intro', 'gender',\n",
      "       'occupations', 'first_sentence', 'overlapping_occupations',\n",
      "       'overlapping_occupations_sentence1', 'occupation_in_last_name',\n",
      "       'number_wiki_editions', 'sum_visib_ln_5criteria'],\n",
      "      dtype='object')\n",
      "8801\n"
     ]
    }
   ],
   "source": [
    "print(result.columns)\n",
    "print(result.shape[0])"
   ]
  },
  {
   "cell_type": "code",
   "execution_count": 13,
   "metadata": {},
   "outputs": [],
   "source": [
    "# Want to get the average of the notability scores of the row in which a certain occ title occurs\n",
    "# for example, want to compare 'presidente' to 'presidenta' for the spanish female dataset\n",
    "\n",
    "def contains_profession(row, profession):\n",
    "    return profession in row"
   ]
  },
  {
   "cell_type": "code",
   "execution_count": null,
   "metadata": {},
   "outputs": [
    {
     "name": "stdout",
     "output_type": "stream",
     "text": [
      "Average score for presidenta: nan\n"
     ]
    }
   ],
   "source": [
    "profession = 'presidenta'\n",
    "result['overlapping_occupations_sentence1'] = result['overlapping_occupations_sentence1'].apply(ast.literal_eval)\n",
    "# Filter rows that contain the profession\n",
    "filtered = result[result['overlapping_occupations_sentence1'].apply(lambda x: contains_profession(x, profession))]\n",
    "\n",
    "# Calculate the mean score\n",
    "average_score = filtered['number_wiki_editions'].mean()\n",
    "\n",
    "print(f\"Average score for {profession}: {average_score}\")"
   ]
  },
  {
   "cell_type": "code",
   "execution_count": 16,
   "metadata": {},
   "outputs": [
    {
     "name": "stdout",
     "output_type": "stream",
     "text": [
      "Empty DataFrame\n",
      "Columns: [Unnamed: 0, wikidata_code, title, intro, gender, occupations, first_sentence, overlapping_occupations, overlapping_occupations_sentence1, occupation_in_last_name, number_wiki_editions, sum_visib_ln_5criteria]\n",
      "Index: []\n"
     ]
    }
   ],
   "source": [
    "print(filtered.head())"
   ]
  },
  {
   "cell_type": "code",
   "execution_count": null,
   "metadata": {},
   "outputs": [
    {
     "name": "stdout",
     "output_type": "stream",
     "text": [
      "               Average_Score\n",
      "desaparicion        1.000000\n",
      "fonoaudiologa       1.000000\n",
      "poetico             1.000000\n",
      "vicedirectora       1.000000\n",
      "alternativas        1.000000\n",
      "...                      ...\n",
      "grabador            1.000000\n",
      "expresidentes       1.000000\n",
      "portuguesas         1.000000\n",
      "escritora           1.001229\n",
      "aparecio            1.000000\n",
      "\n",
      "[1490 rows x 1 columns]\n"
     ]
    }
   ],
   "source": [
    "def get_avg_notability_scores(result):\n",
    "    all_professions = set()\n",
    "    for row in result['overlapping_occupations_sentence1']:\n",
    "        for entry in row:\n",
    "            all_professions.update(entry.keys())\n",
    "\n",
    "    # Step 2: Compute average score per profession\n",
    "    avg_scores = {}\n",
    "    for profession in all_professions:\n",
    "        def row_contains_profession(row):\n",
    "            return any(profession in d for d in row)\n",
    "\n",
    "        filtered = result[result['overlapping_occupations_sentence1'].apply(row_contains_profession)]\n",
    "        \n",
    "        if not filtered.empty:\n",
    "            avg_scores[profession] = filtered['number_wiki_editions'].mean()\n",
    "        else:\n",
    "            avg_scores[profession] = None  # or np.nan if preferred\n",
    "\n",
    "    # Step 3: Create a nice DataFrame of results\n",
    "    avg_scores_df = pd.DataFrame.from_dict(avg_scores, orient='index', columns=['Average_Score'])\n",
    "    print(avg_scores_df)\n",
    "    return avg_scores"
   ]
  },
  {
   "cell_type": "code",
   "execution_count": 21,
   "metadata": {},
   "outputs": [
    {
     "name": "stdout",
     "output_type": "stream",
     "text": [
      "1.0\n",
      "1.0\n",
      "1.0124254473161034\n"
     ]
    }
   ],
   "source": [
    "print(avg_scores['presidenta'])\n",
    "print(avg_scores['presidente'])\n",
    "print(avg_scores['actriz'])"
   ]
  },
  {
   "cell_type": "code",
   "execution_count": 18,
   "metadata": {},
   "outputs": [
    {
     "name": "stdout",
     "output_type": "stream",
     "text": [
      "0                            [{'traductora': ['Fem']}]\n",
      "1                                 [{'periodista': []}]\n",
      "2    [{'actriz': ['Fem']}, {'periodista': []}, {'pr...\n",
      "3          [{'escritora': ['Fem']}, {'activista': []}]\n",
      "4                                [{'musica': ['Fem']}]\n",
      "Name: overlapping_occupations_sentence1, dtype: object\n"
     ]
    }
   ],
   "source": [
    "print(result['overlapping_occupations_sentence1'].head())"
   ]
  }
 ],
 "metadata": {
  "kernelspec": {
   "display_name": "my_venv",
   "language": "python",
   "name": "python3"
  },
  "language_info": {
   "codemirror_mode": {
    "name": "ipython",
    "version": 3
   },
   "file_extension": ".py",
   "mimetype": "text/x-python",
   "name": "python",
   "nbconvert_exporter": "python",
   "pygments_lexer": "ipython3",
   "version": "3.10.17"
  }
 },
 "nbformat": 4,
 "nbformat_minor": 2
}
