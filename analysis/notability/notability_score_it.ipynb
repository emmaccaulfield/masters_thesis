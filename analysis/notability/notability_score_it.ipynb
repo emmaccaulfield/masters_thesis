{
 "cells": [
  {
   "cell_type": "code",
   "execution_count": 3,
   "metadata": {},
   "outputs": [],
   "source": [
    "import spacy \n",
    "import gzip\n",
    "import re \n",
    "import pandas as pd\n",
    "from spacy.lang.en import English\n",
    "from collections import Counter\n",
    "from itertools import chain\n",
    "import ahocorasick\n",
    "import ast\n",
    "# from analysis.occ_frequency.analyze_m_data import get_occupations_list_en, get_occupations_list\n",
    "from spacy.lang.de import German\n",
    "from spacy.lang.it import Italian\n",
    "from spacy.lang.es import Spanish \n",
    "import matplotlib.pyplot as plt\n",
    "import itertools\n",
    "from collections import Counter\n",
    "from operator import itemgetter"
   ]
  },
  {
   "cell_type": "code",
   "execution_count": 2,
   "metadata": {},
   "outputs": [
    {
     "name": "stdout",
     "output_type": "stream",
     "text": [
      "  wikidata_code   birth   death  updated_death_date approx_birth approx_death  \\\n",
      "0      Q1000002  1932.0  1990.0                 NaN          NaN          NaN   \n",
      "1      Q1000005  1860.0  1927.0                 NaN          NaN          NaN   \n",
      "2      Q1000006  1971.0     NaN                 NaN          NaN          NaN   \n",
      "3      Q1000015  1983.0     NaN                 NaN          NaN          NaN   \n",
      "4      Q1000023  1912.0  1977.0                 NaN          NaN          NaN   \n",
      "5      Q1000026  1928.0  2016.0                 NaN          NaN          NaN   \n",
      "6      Q1000034  1818.0  1894.0                 NaN          NaN          NaN   \n",
      "7      Q1000044  1907.0  1980.0                 NaN          NaN          NaN   \n",
      "8      Q1000045  1915.0  1987.0                 NaN          NaN        circa   \n",
      "9      Q1000048  1891.0  1962.0                 NaN          NaN          NaN   \n",
      "\n",
      "   birth_min  birth_max  death_min  death_max  ... area2_of_rattachment  \\\n",
      "0     1932.0     1932.0     1990.0     1990.0  ...              Missing   \n",
      "1     1860.0     1860.0     1927.0     1927.0  ...              Missing   \n",
      "2     1971.0     1971.0        NaN        NaN  ...              Missing   \n",
      "3     1983.0     1983.0        NaN        NaN  ...              Missing   \n",
      "4     1912.0     1912.0     1977.0     1977.0  ...              Missing   \n",
      "5     1928.0     1928.0     2016.0     2016.0  ...              Missing   \n",
      "6     1818.0     1818.0     1894.0     1894.0  ...              Missing   \n",
      "7     1907.0     1907.0     1980.0     1980.0  ...              Missing   \n",
      "8     1915.0     1915.0     1987.0     1987.0  ...              Missing   \n",
      "9     1891.0     1891.0     1962.0     1962.0  ...              Missing   \n",
      "\n",
      "                             list_wikipedia_editions un_region  \\\n",
      "0                                             dewiki    Europe   \n",
      "1  dewiki|cswiki|enwiki|eowiki|itwiki|kkwiki|rowi...    Europe   \n",
      "2                                             dewiki    Europe   \n",
      "3                                             dewiki    Europe   \n",
      "4                                             dewiki    Europe   \n",
      "5                                             dewiki   America   \n",
      "6                                      dewiki|svwiki    Europe   \n",
      "7                                             dewiki    Europe   \n",
      "8                                             dewiki    Europe   \n",
      "9                                             dewiki    Europe   \n",
      "\n",
      "  group_wikipedia_editions      bplo1      dplo1      bpla1      dpla1  \\\n",
      "0                      grB  11.833333  12.420000  53.416668  54.381390   \n",
      "1                      grA  12.929798  14.421389  49.440605  50.087502   \n",
      "2                      grB   9.191944        NaN  48.897499        NaN   \n",
      "3                      grB  13.383333        NaN  52.516666        NaN   \n",
      "4                      grB  13.350000   8.400000  52.433300  49.016666   \n",
      "5                      grB -73.990280 -74.656944  40.692780  40.352222   \n",
      "6                      grB   7.667770   8.400000  47.957283  49.016666   \n",
      "7                      grB  16.372499  16.372499  48.208332  48.208332   \n",
      "8                      grB        NaN        NaN        NaN        NaN   \n",
      "9                      grB  13.835800  12.375000  51.194901  51.340000   \n",
      "\n",
      "   pantheon_1                                     level3_all_occ  \n",
      "0           0  D:_playwright_journalist_writer_screenwriter_P...  \n",
      "1           0  D:_writer_journalist_P:_naturalist_writer_jour...  \n",
      "2           0  D:_film_screenwriter_film_P:_regisseur_autor_f...  \n",
      "3           0                      D:_actor_P:_schauspiel_German  \n",
      "4           0      D:_judge_jurist_P:_ richter_verfassung_German  \n",
      "5           0                         D:_curator_P:_kurat_German  \n",
      "6           0  D:_mathematician_P:_mathematiker_German_matema...  \n",
      "7           0      D:_professor_psychologist_P:_professor_German  \n",
      "8           0  D:_journalist_father_P:_journalist_spion_offiz...  \n",
      "9           0        D:_philologist_academic_P:_philologe_German  \n",
      "\n",
      "[10 rows x 49 columns]\n",
      "Index(['wikidata_code', 'birth', 'death', 'updated_death_date', 'approx_birth',\n",
      "       'approx_death', 'birth_min', 'birth_max', 'death_min', 'death_max',\n",
      "       'gender', 'level1_main_occ', 'name', 'un_subregion', 'birth_estimation',\n",
      "       'death_estimation', 'bigperiod_birth_graph_b',\n",
      "       'bigperiod_death_graph_b', 'curid', 'level2_main_occ', 'freq_main_occ',\n",
      "       'freq_second_occ', 'level2_second_occ', 'level3_main_occ',\n",
      "       'bigperiod_birth', 'bigperiod_death', 'wiki_readers_2015_2018',\n",
      "       'non_missing_score', 'total_count_words_b', 'number_wiki_editions',\n",
      "       'total_noccur_links_b', 'sum_visib_ln_5criteria',\n",
      "       'ranking_visib_5criteria', 'all_geography_groups',\n",
      "       'string_citizenship_raw_d', 'citizenship_1_b', 'citizenship_2_b',\n",
      "       'list_areas_of_rattach', 'area1_of_rattachment', 'area2_of_rattachment',\n",
      "       'list_wikipedia_editions', 'un_region', 'group_wikipedia_editions',\n",
      "       'bplo1', 'dplo1', 'bpla1', 'dpla1', 'pantheon_1', 'level3_all_occ'],\n",
      "      dtype='object')\n"
     ]
    }
   ],
   "source": [
    "filename = \"/mount/studenten/projects/caulfiea/cross-verified-database.csv.gz\"\n",
    "csvFilename = gzip.open(filename, 'rb')\n",
    "df = pd.read_csv(csvFilename, encoding='latin-1')\n",
    "print(df.head(10))\n",
    "print(df.columns)"
   ]
  },
  {
   "cell_type": "code",
   "execution_count": 3,
   "metadata": {},
   "outputs": [],
   "source": [
    "italian_female_df = pd.read_csv('/mount/arbeitsdaten/studenten2/caulfiea/masters_thesis/sets_for_analysis/it/it_female_occ_all.csv', encoding=\"utf-8\")"
   ]
  },
  {
   "cell_type": "code",
   "execution_count": 4,
   "metadata": {},
   "outputs": [
    {
     "name": "stdout",
     "output_type": "stream",
     "text": [
      "7852\n"
     ]
    }
   ],
   "source": [
    "it_female_codes = italian_female_df['wikidata_code'].to_list()\n",
    "df2 = df.loc[df['wikidata_code'].isin(it_female_codes)]\n",
    "print(df2.shape[0])"
   ]
  },
  {
   "cell_type": "code",
   "execution_count": 5,
   "metadata": {},
   "outputs": [
    {
     "name": "stdout",
     "output_type": "stream",
     "text": [
      "   Unnamed: 0 wikidata_code               title  \\\n",
      "0           0     Q10292875  valentina baldelli   \n",
      "1           1     Q10292941          ada puliti   \n",
      "2           2     Q10293226        lella artesi   \n",
      "3           3     Q10293303      erika striulli   \n",
      "4           4     Q10293464       cinzia arioli   \n",
      "\n",
      "                                               intro  gender  \\\n",
      "0  valentina baldelli (gualdo tadino, 30 gennaio ...  female   \n",
      "1  ada puliti (lucca, 4 luglio 1985) è un'ex cest...  female   \n",
      "2  mirella artesi, detta lella (bologna, 24 febbr...  female   \n",
      "3  erika striulli (venezia, 20 ottobre 1990) è un...  female   \n",
      "4  cinzia arioli (magenta, 7 febbraio 1984) è una...  female   \n",
      "\n",
      "             occupations                                     first_sentence  \\\n",
      "0  ['basketball player']  Valentina Baldelli (Gualdo Tadino, 30 gennaio ...   \n",
      "1  ['basketball player']  Ada Puliti (Lucca, 4 luglio 1985) è un'ex cest...   \n",
      "2           ['director']  Mirella Artesi, detta Lella (Bologna, 24 febbr...   \n",
      "3  ['basketball player']  Erika Striulli (Venezia, 20 ottobre 1990) è un...   \n",
      "4  ['basketball player']  Cinzia Arioli (Magenta, 7 febbraio 1984) è una...   \n",
      "\n",
      "                             overlapping_occupations  \\\n",
      "0                            [{'cestista': ['Fem']}]   \n",
      "1                                 [{'cestista': []}]   \n",
      "2                                                 []   \n",
      "3                            [{'cestista': ['Fem']}]   \n",
      "4  [{'magenta': []}, {'cestista': ['Fem']}, {'gua...   \n",
      "\n",
      "  overlapping_occupations_sentence1 occupation_in_last_name  \\\n",
      "0           [{'cestista': ['Fem']}]                      []   \n",
      "1                [{'cestista': []}]                      []   \n",
      "2                                []                      []   \n",
      "3           [{'cestista': ['Fem']}]                      []   \n",
      "4           [{'cestista': ['Fem']}]                      []   \n",
      "\n",
      "   number_wiki_editions  sum_visib_ln_5criteria  \n",
      "0                     1               15.114031  \n",
      "1                     1               15.398019  \n",
      "2                     1               15.337354  \n",
      "3                     1               16.328548  \n",
      "4                     1               15.309134  \n"
     ]
    }
   ],
   "source": [
    "notability_scores = df2[['wikidata_code','number_wiki_editions','sum_visib_ln_5criteria']]\n",
    "result = pd.merge(italian_female_df, notability_scores, on='wikidata_code')\n",
    "print(result.head())"
   ]
  },
  {
   "cell_type": "code",
   "execution_count": 13,
   "metadata": {},
   "outputs": [],
   "source": [
    "italian_other_df = pd.read_csv('/mount/arbeitsdaten/studenten2/caulfiea/masters_thesis/sets_for_analysis/redo/it_other_occ.csv', encoding=\"utf-8\")"
   ]
  },
  {
   "cell_type": "code",
   "execution_count": 14,
   "metadata": {},
   "outputs": [
    {
     "name": "stdout",
     "output_type": "stream",
     "text": [
      "82\n"
     ]
    }
   ],
   "source": [
    "it_other_codes = italian_other_df['wikidata_code'].to_list()\n",
    "df2 = df.loc[df['wikidata_code'].isin(it_other_codes)]\n",
    "print(df2.shape[0])"
   ]
  },
  {
   "cell_type": "code",
   "execution_count": 15,
   "metadata": {},
   "outputs": [
    {
     "name": "stdout",
     "output_type": "stream",
     "text": [
      "   Unnamed: 0 wikidata_code           title  \\\n",
      "0           0      Q1091285  holly woodlawn   \n",
      "1           1      Q1140735       lili elbe   \n",
      "2           3      Q1262889          anohni   \n",
      "3           4       Q127362      chief keef   \n",
      "4           5      Q1276110   jackie curtis   \n",
      "\n",
      "                                               intro   gender  \\\n",
      "0  holly woodlawn (juana díaz, 26 ottobre 1946 – ...  Unknown   \n",
      "1  lili ilse elvener (vejle, 28 dicembre 1882 – d...  Unknown   \n",
      "2  anohni, pseudonimo di anohni hegarty (nata ant...  Unknown   \n",
      "3  chief keef (alternativamente sosa), pseudonimo...  Unknown   \n",
      "4  john curtis holder, jr., meglio conosciuta com...  Unknown   \n",
      "\n",
      "                                         occupations  \\\n",
      "0                             ['Unknown', 'Unknown']   \n",
      "1                                        ['Unknown']   \n",
      "2  ['Unknown', 'Unknown', 'Unknown', 'Unknown', '...   \n",
      "3       ['Unknown', 'Unknown', 'Unknown', 'Unknown']   \n",
      "4  ['Unknown', 'Unknown', 'Unknown', 'Unknown', '...   \n",
      "\n",
      "                                      first_sentence  \\\n",
      "0  Holly Woodlawn (Juana Díaz, 26 ottobre 1946 – ...   \n",
      "1  Lili Ilse Elvener (Vejle, 28 dicembre 1882 – D...   \n",
      "2  Anohni, pseudonimo di Anohni Hegarty (nata Ant...   \n",
      "3  Chief Keef (alternativamente Sosa), pseudonimo...   \n",
      "4                           John Curtis Holder, Jr.,   \n",
      "\n",
      "                             overlapping_occupations  \\\n",
      "0  [{'attrice': ['Fem']}, {'interprete': []}, {'f...   \n",
      "1   [{'seconda': ['Fem']}, {'chirurgico': ['Masc']}]   \n",
      "2  [{'cantante': []}, {'compositrice': ['Masc']},...   \n",
      "3  [{'produttore': ['Masc']}, {'autorità': ['Fem'...   \n",
      "4      [{'attrice': ['Fem']}, {'poetessa': ['Fem']}]   \n",
      "\n",
      "                   overlapping_occupations_sentence1 occupation_in_last_name  \\\n",
      "0  [{'attrice': ['Fem']}, {'interprete': []}, {'f...                      []   \n",
      "1   [{'seconda': ['Fem']}, {'chirurgico': ['Masc']}]                      []   \n",
      "2  [{'cantante': []}, {'compositrice': ['Masc']},...                      []   \n",
      "3                         [{'produttore': ['Masc']}]                      []   \n",
      "4                                                 []                      []   \n",
      "\n",
      "   number_wiki_editions  sum_visib_ln_5criteria  \n",
      "0                    16               28.713526  \n",
      "1                    38               33.056965  \n",
      "2                    18               30.324228  \n",
      "3                    29               31.932186  \n",
      "4                    10               26.438784  \n"
     ]
    }
   ],
   "source": [
    "notability_scores = df2[['wikidata_code','number_wiki_editions','sum_visib_ln_5criteria']]\n",
    "result = pd.merge(italian_other_df, notability_scores, on='wikidata_code')\n",
    "print(result.head())"
   ]
  },
  {
   "cell_type": "code",
   "execution_count": 9,
   "metadata": {},
   "outputs": [],
   "source": [
    "def get_avg_notability_scores(result):\n",
    "    all_professions = set()\n",
    "    for row in result['overlapping_occupations_sentence1']:\n",
    "        for entry in row:\n",
    "            all_professions.update(entry.keys())\n",
    "\n",
    "    # Step 2: Compute average score per profession\n",
    "    avg_scores = {}\n",
    "    for profession in all_professions:\n",
    "        def row_contains_profession(row):\n",
    "            return any(profession in d for d in row)\n",
    "\n",
    "        filtered = result[result['overlapping_occupations_sentence1'].apply(row_contains_profession)]\n",
    "        \n",
    "        if not filtered.empty:\n",
    "            avg_scores[profession] = filtered['number_wiki_editions'].mean()\n",
    "        else:\n",
    "            avg_scores[profession] = None  # or np.nan if preferred\n",
    "\n",
    "    return avg_scores"
   ]
  },
  {
   "cell_type": "code",
   "execution_count": 16,
   "metadata": {},
   "outputs": [],
   "source": [
    "result['overlapping_occupations_sentence1'] = result['overlapping_occupations_sentence1'].apply(ast.literal_eval)"
   ]
  },
  {
   "cell_type": "code",
   "execution_count": 17,
   "metadata": {},
   "outputs": [],
   "source": [
    "avg_scores =get_avg_notability_scores(result)"
   ]
  },
  {
   "cell_type": "code",
   "execution_count": 18,
   "metadata": {},
   "outputs": [
    {
     "name": "stdout",
     "output_type": "stream",
     "text": [
      "12.870967741935484\n"
     ]
    }
   ],
   "source": [
    "# print(avg_scores['medico'])\n",
    "# print(avg_scores['medica'])\n",
    "# print(avg_scores['presidente'])\n",
    "# print(avg_scores['avvocato'])\n",
    "# print(avg_scores['avvocata'])\n",
    "print(avg_scores['attrice'])"
   ]
  },
  {
   "cell_type": "code",
   "execution_count": 19,
   "metadata": {},
   "outputs": [],
   "source": [
    "professions_it = [\"medico\",\"medica\",\"capitano\",\"capitana\",\"sindaco\",\"sindaca\",\"avvocato\",'avvocata',\"architetto\",\"architetta\",\"sportivo\",\"sportiva\",\"sottosegretario\",\n",
    "\"sottosegretaria\",\"allenatore\",\"allenatrice\",\"critico\",\"critica\",\"magistrato\",\"magistrata\",\"deputato\",\"deputata\",\"ministro\",\"ministra\",\"senatore\",\"senatrice\",\"dottore\",\"dottoressa\",\"assessore\",\"assessora\",\n",
    "\"carabiniere\",\"carabiniera\",\"deputato\",\"deputata\",\"direttore\",\"direttrice\"]"
   ]
  },
  {
   "cell_type": "code",
   "execution_count": 20,
   "metadata": {},
   "outputs": [
    {
     "name": "stdout",
     "output_type": "stream",
     "text": [
      "{'senatrice': np.float64(8.0), 'ministra': np.float64(20.0)}\n"
     ]
    }
   ],
   "source": [
    "def filter_dict(pair):\n",
    "    key,value = pair\n",
    "    if key in professions_it:\n",
    "        return True\n",
    "    else:\n",
    "        return False\n",
    "\n",
    "filtered_professions = dict(filter(filter_dict, avg_scores.items()))\n",
    "print(filtered_professions)"
   ]
  },
  {
   "cell_type": "code",
   "execution_count": 12,
   "metadata": {},
   "outputs": [],
   "source": [
    "def make_plot2(overlapping_occ_counts):\n",
    "    # get bar chart of top 20 occupations\n",
    "    ten_items = overlapping_occ_counts\n",
    "    values = list(ten_items.values())\n",
    "    values = [float(i) for i in values]\n",
    "    values_sum = sum(values)\n",
    "    print(values_sum)\n",
    "    averages = [x / values_sum for x in values]\n",
    "    print(averages[:10])\n",
    "    plt.bar(range(len(ten_items)), values, align='center')\n",
    "    plt.xticks(range(len(ten_items)), list(ten_items.keys()))\n",
    "    plt.xticks(rotation=90)\n",
    "    plt.title(\"Average Number of Wikipedia Editions of Biographies Containing Occupational Titles in Italian Female Data\")"
   ]
  },
  {
   "cell_type": "code",
   "execution_count": 13,
   "metadata": {},
   "outputs": [
    {
     "name": "stdout",
     "output_type": "stream",
     "text": [
      "23.018181818181816\n",
      "[0.04344391785150079, 0.04344391785150079, 0.04344391785150079, 0.04344391785150079, 0.04344391785150079, 0.04344391785150079, 0.04344391785150079, 0.044233807266982623, 0.04344391785150079, 0.04344391785150079]\n"
     ]
    },
    {
     "data": {
      "image/png": "[encoded data removed]",
      "text/plain": [
       "<Figure size 640x480 with 1 Axes>"
      ]
     },
     "metadata": {},
     "output_type": "display_data"
    }
   ],
   "source": [
    "make_plot2(filtered_professions)"
   ]
  }
 ],
 "metadata": {
  "kernelspec": {
   "display_name": "my_venv",
   "language": "python",
   "name": "python3"
  },
  "language_info": {
   "codemirror_mode": {
    "name": "ipython",
    "version": 3
   },
   "file_extension": ".py",
   "mimetype": "text/x-python",
   "name": "python",
   "nbconvert_exporter": "python",
   "pygments_lexer": "ipython3",
   "version": "3.10.17"
  }
 },
 "nbformat": 4,
 "nbformat_minor": 2
}
